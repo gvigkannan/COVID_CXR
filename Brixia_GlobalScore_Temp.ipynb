{
  "nbformat": 4,
  "nbformat_minor": 0,
  "metadata": {
    "colab": {
      "name": "Brixia_GlobalScore_Temp.ipynb",
      "provenance": [],
      "collapsed_sections": [
        "tNrOGtI65GV8"
      ],
      "machine_shape": "hm",
      "include_colab_link": true
    },
    "kernelspec": {
      "name": "python3",
      "display_name": "Python 3"
    },
    "language_info": {
      "name": "python"
    },
    "accelerator": "GPU",
    "widgets": {
      "application/vnd.jupyter.widget-state+json": {
        "38935e244bf04b72a2b582d3fe078cde": {
          "model_module": "@jupyter-widgets/controls",
          "model_name": "HBoxModel",
          "state": {
            "_view_name": "HBoxView",
            "_dom_classes": [],
            "_model_name": "HBoxModel",
            "_view_module": "@jupyter-widgets/controls",
            "_model_module_version": "1.5.0",
            "_view_count": null,
            "_view_module_version": "1.5.0",
            "box_style": "",
            "layout": "IPY_MODEL_809f2a351932410cbe24324b9750e9e1",
            "_model_module": "@jupyter-widgets/controls",
            "children": [
              "IPY_MODEL_97ed0f339c75403ea7f1f3d568963f97",
              "IPY_MODEL_78cf4ee8d6104f5e8fefa2ab56b4cb4d"
            ]
          }
        },
        "809f2a351932410cbe24324b9750e9e1": {
          "model_module": "@jupyter-widgets/base",
          "model_name": "LayoutModel",
          "state": {
            "_view_name": "LayoutView",
            "grid_template_rows": null,
            "right": null,
            "justify_content": null,
            "_view_module": "@jupyter-widgets/base",
            "overflow": null,
            "_model_module_version": "1.2.0",
            "_view_count": null,
            "flex_flow": null,
            "width": null,
            "min_width": null,
            "border": null,
            "align_items": null,
            "bottom": null,
            "_model_module": "@jupyter-widgets/base",
            "top": null,
            "grid_column": null,
            "overflow_y": null,
            "overflow_x": null,
            "grid_auto_flow": null,
            "grid_area": null,
            "grid_template_columns": null,
            "flex": null,
            "_model_name": "LayoutModel",
            "justify_items": null,
            "grid_row": null,
            "max_height": null,
            "align_content": null,
            "visibility": null,
            "align_self": null,
            "height": null,
            "min_height": null,
            "padding": null,
            "grid_auto_rows": null,
            "grid_gap": null,
            "max_width": null,
            "order": null,
            "_view_module_version": "1.2.0",
            "grid_template_areas": null,
            "object_position": null,
            "object_fit": null,
            "grid_auto_columns": null,
            "margin": null,
            "display": null,
            "left": null
          }
        },
        "97ed0f339c75403ea7f1f3d568963f97": {
          "model_module": "@jupyter-widgets/controls",
          "model_name": "FloatProgressModel",
          "state": {
            "_view_name": "ProgressView",
            "style": "IPY_MODEL_634390205ba447dd97f6cc537ab22ef5",
            "_dom_classes": [],
            "description": "",
            "_model_name": "FloatProgressModel",
            "bar_style": "success",
            "max": 1,
            "_view_module": "@jupyter-widgets/controls",
            "_model_module_version": "1.5.0",
            "value": 1,
            "_view_count": null,
            "_view_module_version": "1.5.0",
            "orientation": "horizontal",
            "min": 0,
            "description_tooltip": null,
            "_model_module": "@jupyter-widgets/controls",
            "layout": "IPY_MODEL_0b387b58416a45caa47e87863e271d07"
          }
        },
        "78cf4ee8d6104f5e8fefa2ab56b4cb4d": {
          "model_module": "@jupyter-widgets/controls",
          "model_name": "HTMLModel",
          "state": {
            "_view_name": "HTMLView",
            "style": "IPY_MODEL_ef2598c93b0b410f9a60d55f8bfb612a",
            "_dom_classes": [],
            "description": "",
            "_model_name": "HTMLModel",
            "placeholder": "​",
            "_view_module": "@jupyter-widgets/controls",
            "_model_module_version": "1.5.0",
            "value": " 277/? [04:03&lt;00:00,  1.14it/s]",
            "_view_count": null,
            "_view_module_version": "1.5.0",
            "description_tooltip": null,
            "_model_module": "@jupyter-widgets/controls",
            "layout": "IPY_MODEL_d000090daf854ad594aa2e7b8b15d15b"
          }
        },
        "634390205ba447dd97f6cc537ab22ef5": {
          "model_module": "@jupyter-widgets/controls",
          "model_name": "ProgressStyleModel",
          "state": {
            "_view_name": "StyleView",
            "_model_name": "ProgressStyleModel",
            "description_width": "initial",
            "_view_module": "@jupyter-widgets/base",
            "_model_module_version": "1.5.0",
            "_view_count": null,
            "_view_module_version": "1.2.0",
            "bar_color": null,
            "_model_module": "@jupyter-widgets/controls"
          }
        },
        "0b387b58416a45caa47e87863e271d07": {
          "model_module": "@jupyter-widgets/base",
          "model_name": "LayoutModel",
          "state": {
            "_view_name": "LayoutView",
            "grid_template_rows": null,
            "right": null,
            "justify_content": null,
            "_view_module": "@jupyter-widgets/base",
            "overflow": null,
            "_model_module_version": "1.2.0",
            "_view_count": null,
            "flex_flow": null,
            "width": null,
            "min_width": null,
            "border": null,
            "align_items": null,
            "bottom": null,
            "_model_module": "@jupyter-widgets/base",
            "top": null,
            "grid_column": null,
            "overflow_y": null,
            "overflow_x": null,
            "grid_auto_flow": null,
            "grid_area": null,
            "grid_template_columns": null,
            "flex": null,
            "_model_name": "LayoutModel",
            "justify_items": null,
            "grid_row": null,
            "max_height": null,
            "align_content": null,
            "visibility": null,
            "align_self": null,
            "height": null,
            "min_height": null,
            "padding": null,
            "grid_auto_rows": null,
            "grid_gap": null,
            "max_width": null,
            "order": null,
            "_view_module_version": "1.2.0",
            "grid_template_areas": null,
            "object_position": null,
            "object_fit": null,
            "grid_auto_columns": null,
            "margin": null,
            "display": null,
            "left": null
          }
        },
        "ef2598c93b0b410f9a60d55f8bfb612a": {
          "model_module": "@jupyter-widgets/controls",
          "model_name": "DescriptionStyleModel",
          "state": {
            "_view_name": "StyleView",
            "_model_name": "DescriptionStyleModel",
            "description_width": "",
            "_view_module": "@jupyter-widgets/base",
            "_model_module_version": "1.5.0",
            "_view_count": null,
            "_view_module_version": "1.2.0",
            "_model_module": "@jupyter-widgets/controls"
          }
        },
        "d000090daf854ad594aa2e7b8b15d15b": {
          "model_module": "@jupyter-widgets/base",
          "model_name": "LayoutModel",
          "state": {
            "_view_name": "LayoutView",
            "grid_template_rows": null,
            "right": null,
            "justify_content": null,
            "_view_module": "@jupyter-widgets/base",
            "overflow": null,
            "_model_module_version": "1.2.0",
            "_view_count": null,
            "flex_flow": null,
            "width": null,
            "min_width": null,
            "border": null,
            "align_items": null,
            "bottom": null,
            "_model_module": "@jupyter-widgets/base",
            "top": null,
            "grid_column": null,
            "overflow_y": null,
            "overflow_x": null,
            "grid_auto_flow": null,
            "grid_area": null,
            "grid_template_columns": null,
            "flex": null,
            "_model_name": "LayoutModel",
            "justify_items": null,
            "grid_row": null,
            "max_height": null,
            "align_content": null,
            "visibility": null,
            "align_self": null,
            "height": null,
            "min_height": null,
            "padding": null,
            "grid_auto_rows": null,
            "grid_gap": null,
            "max_width": null,
            "order": null,
            "_view_module_version": "1.2.0",
            "grid_template_areas": null,
            "object_position": null,
            "object_fit": null,
            "grid_auto_columns": null,
            "margin": null,
            "display": null,
            "left": null
          }
        },
        "b1dc8d3f1d744546a30d806973bb2664": {
          "model_module": "@jupyter-widgets/controls",
          "model_name": "HBoxModel",
          "state": {
            "_view_name": "HBoxView",
            "_dom_classes": [],
            "_model_name": "HBoxModel",
            "_view_module": "@jupyter-widgets/controls",
            "_model_module_version": "1.5.0",
            "_view_count": null,
            "_view_module_version": "1.5.0",
            "box_style": "",
            "layout": "IPY_MODEL_5a10dee254fd49d18231fac724347705",
            "_model_module": "@jupyter-widgets/controls",
            "children": [
              "IPY_MODEL_e81067ad1696451bb9057f1719c9ebe8",
              "IPY_MODEL_2707e4e27afe405ea39769f9feb1ccea"
            ]
          }
        },
        "5a10dee254fd49d18231fac724347705": {
          "model_module": "@jupyter-widgets/base",
          "model_name": "LayoutModel",
          "state": {
            "_view_name": "LayoutView",
            "grid_template_rows": null,
            "right": null,
            "justify_content": null,
            "_view_module": "@jupyter-widgets/base",
            "overflow": null,
            "_model_module_version": "1.2.0",
            "_view_count": null,
            "flex_flow": null,
            "width": null,
            "min_width": null,
            "border": null,
            "align_items": null,
            "bottom": null,
            "_model_module": "@jupyter-widgets/base",
            "top": null,
            "grid_column": null,
            "overflow_y": null,
            "overflow_x": null,
            "grid_auto_flow": null,
            "grid_area": null,
            "grid_template_columns": null,
            "flex": null,
            "_model_name": "LayoutModel",
            "justify_items": null,
            "grid_row": null,
            "max_height": null,
            "align_content": null,
            "visibility": null,
            "align_self": null,
            "height": null,
            "min_height": null,
            "padding": null,
            "grid_auto_rows": null,
            "grid_gap": null,
            "max_width": null,
            "order": null,
            "_view_module_version": "1.2.0",
            "grid_template_areas": null,
            "object_position": null,
            "object_fit": null,
            "grid_auto_columns": null,
            "margin": null,
            "display": null,
            "left": null
          }
        },
        "e81067ad1696451bb9057f1719c9ebe8": {
          "model_module": "@jupyter-widgets/controls",
          "model_name": "FloatProgressModel",
          "state": {
            "_view_name": "ProgressView",
            "style": "IPY_MODEL_b8900ae11d884bcd9fe2b2ba8a6feb4d",
            "_dom_classes": [],
            "description": "",
            "_model_name": "FloatProgressModel",
            "bar_style": "success",
            "max": 1,
            "_view_module": "@jupyter-widgets/controls",
            "_model_module_version": "1.5.0",
            "value": 1,
            "_view_count": null,
            "_view_module_version": "1.5.0",
            "orientation": "horizontal",
            "min": 0,
            "description_tooltip": null,
            "_model_module": "@jupyter-widgets/controls",
            "layout": "IPY_MODEL_89051dcc420242c688ed24c0939f722b"
          }
        },
        "2707e4e27afe405ea39769f9feb1ccea": {
          "model_module": "@jupyter-widgets/controls",
          "model_name": "HTMLModel",
          "state": {
            "_view_name": "HTMLView",
            "style": "IPY_MODEL_627c7dfbae4f4d74975310d1d8f4d81a",
            "_dom_classes": [],
            "description": "",
            "_model_name": "HTMLModel",
            "placeholder": "​",
            "_view_module": "@jupyter-widgets/controls",
            "_model_module_version": "1.5.0",
            "value": " 14/? [00:08&lt;00:00,  1.65it/s]",
            "_view_count": null,
            "_view_module_version": "1.5.0",
            "description_tooltip": null,
            "_model_module": "@jupyter-widgets/controls",
            "layout": "IPY_MODEL_19c96307c2374b788a7c407fc6416db7"
          }
        },
        "b8900ae11d884bcd9fe2b2ba8a6feb4d": {
          "model_module": "@jupyter-widgets/controls",
          "model_name": "ProgressStyleModel",
          "state": {
            "_view_name": "StyleView",
            "_model_name": "ProgressStyleModel",
            "description_width": "initial",
            "_view_module": "@jupyter-widgets/base",
            "_model_module_version": "1.5.0",
            "_view_count": null,
            "_view_module_version": "1.2.0",
            "bar_color": null,
            "_model_module": "@jupyter-widgets/controls"
          }
        },
        "89051dcc420242c688ed24c0939f722b": {
          "model_module": "@jupyter-widgets/base",
          "model_name": "LayoutModel",
          "state": {
            "_view_name": "LayoutView",
            "grid_template_rows": null,
            "right": null,
            "justify_content": null,
            "_view_module": "@jupyter-widgets/base",
            "overflow": null,
            "_model_module_version": "1.2.0",
            "_view_count": null,
            "flex_flow": null,
            "width": null,
            "min_width": null,
            "border": null,
            "align_items": null,
            "bottom": null,
            "_model_module": "@jupyter-widgets/base",
            "top": null,
            "grid_column": null,
            "overflow_y": null,
            "overflow_x": null,
            "grid_auto_flow": null,
            "grid_area": null,
            "grid_template_columns": null,
            "flex": null,
            "_model_name": "LayoutModel",
            "justify_items": null,
            "grid_row": null,
            "max_height": null,
            "align_content": null,
            "visibility": null,
            "align_self": null,
            "height": null,
            "min_height": null,
            "padding": null,
            "grid_auto_rows": null,
            "grid_gap": null,
            "max_width": null,
            "order": null,
            "_view_module_version": "1.2.0",
            "grid_template_areas": null,
            "object_position": null,
            "object_fit": null,
            "grid_auto_columns": null,
            "margin": null,
            "display": null,
            "left": null
          }
        },
        "627c7dfbae4f4d74975310d1d8f4d81a": {
          "model_module": "@jupyter-widgets/controls",
          "model_name": "DescriptionStyleModel",
          "state": {
            "_view_name": "StyleView",
            "_model_name": "DescriptionStyleModel",
            "description_width": "",
            "_view_module": "@jupyter-widgets/base",
            "_model_module_version": "1.5.0",
            "_view_count": null,
            "_view_module_version": "1.2.0",
            "_model_module": "@jupyter-widgets/controls"
          }
        },
        "19c96307c2374b788a7c407fc6416db7": {
          "model_module": "@jupyter-widgets/base",
          "model_name": "LayoutModel",
          "state": {
            "_view_name": "LayoutView",
            "grid_template_rows": null,
            "right": null,
            "justify_content": null,
            "_view_module": "@jupyter-widgets/base",
            "overflow": null,
            "_model_module_version": "1.2.0",
            "_view_count": null,
            "flex_flow": null,
            "width": null,
            "min_width": null,
            "border": null,
            "align_items": null,
            "bottom": null,
            "_model_module": "@jupyter-widgets/base",
            "top": null,
            "grid_column": null,
            "overflow_y": null,
            "overflow_x": null,
            "grid_auto_flow": null,
            "grid_area": null,
            "grid_template_columns": null,
            "flex": null,
            "_model_name": "LayoutModel",
            "justify_items": null,
            "grid_row": null,
            "max_height": null,
            "align_content": null,
            "visibility": null,
            "align_self": null,
            "height": null,
            "min_height": null,
            "padding": null,
            "grid_auto_rows": null,
            "grid_gap": null,
            "max_width": null,
            "order": null,
            "_view_module_version": "1.2.0",
            "grid_template_areas": null,
            "object_position": null,
            "object_fit": null,
            "grid_auto_columns": null,
            "margin": null,
            "display": null,
            "left": null
          }
        },
        "bbf2ab0a996d459b91b953404f464106": {
          "model_module": "@jupyter-widgets/controls",
          "model_name": "HBoxModel",
          "state": {
            "_view_name": "HBoxView",
            "_dom_classes": [],
            "_model_name": "HBoxModel",
            "_view_module": "@jupyter-widgets/controls",
            "_model_module_version": "1.5.0",
            "_view_count": null,
            "_view_module_version": "1.5.0",
            "box_style": "",
            "layout": "IPY_MODEL_0b079245023c49709b29a37844df42f0",
            "_model_module": "@jupyter-widgets/controls",
            "children": [
              "IPY_MODEL_e780543f1c67414e804f8968efa8b57e",
              "IPY_MODEL_24e20c7b0bee4fafaee2fe509825c02b"
            ]
          }
        },
        "0b079245023c49709b29a37844df42f0": {
          "model_module": "@jupyter-widgets/base",
          "model_name": "LayoutModel",
          "state": {
            "_view_name": "LayoutView",
            "grid_template_rows": null,
            "right": null,
            "justify_content": null,
            "_view_module": "@jupyter-widgets/base",
            "overflow": null,
            "_model_module_version": "1.2.0",
            "_view_count": null,
            "flex_flow": null,
            "width": null,
            "min_width": null,
            "border": null,
            "align_items": null,
            "bottom": null,
            "_model_module": "@jupyter-widgets/base",
            "top": null,
            "grid_column": null,
            "overflow_y": null,
            "overflow_x": null,
            "grid_auto_flow": null,
            "grid_area": null,
            "grid_template_columns": null,
            "flex": null,
            "_model_name": "LayoutModel",
            "justify_items": null,
            "grid_row": null,
            "max_height": null,
            "align_content": null,
            "visibility": null,
            "align_self": null,
            "height": null,
            "min_height": null,
            "padding": null,
            "grid_auto_rows": null,
            "grid_gap": null,
            "max_width": null,
            "order": null,
            "_view_module_version": "1.2.0",
            "grid_template_areas": null,
            "object_position": null,
            "object_fit": null,
            "grid_auto_columns": null,
            "margin": null,
            "display": null,
            "left": null
          }
        },
        "e780543f1c67414e804f8968efa8b57e": {
          "model_module": "@jupyter-widgets/controls",
          "model_name": "FloatProgressModel",
          "state": {
            "_view_name": "ProgressView",
            "style": "IPY_MODEL_5f02c8b215fc41079a8642fa74c8f257",
            "_dom_classes": [],
            "description": "",
            "_model_name": "FloatProgressModel",
            "bar_style": "success",
            "max": 1,
            "_view_module": "@jupyter-widgets/controls",
            "_model_module_version": "1.5.0",
            "value": 1,
            "_view_count": null,
            "_view_module_version": "1.5.0",
            "orientation": "horizontal",
            "min": 0,
            "description_tooltip": null,
            "_model_module": "@jupyter-widgets/controls",
            "layout": "IPY_MODEL_1f77570c8edd42edb2473b7aa9f9f3bf"
          }
        },
        "24e20c7b0bee4fafaee2fe509825c02b": {
          "model_module": "@jupyter-widgets/controls",
          "model_name": "HTMLModel",
          "state": {
            "_view_name": "HTMLView",
            "style": "IPY_MODEL_dba16a0ef59840f7a0da7efa187c83cd",
            "_dom_classes": [],
            "description": "",
            "_model_name": "HTMLModel",
            "placeholder": "​",
            "_view_module": "@jupyter-widgets/controls",
            "_model_module_version": "1.5.0",
            "value": " 15/? [00:07&lt;00:00,  2.06it/s]",
            "_view_count": null,
            "_view_module_version": "1.5.0",
            "description_tooltip": null,
            "_model_module": "@jupyter-widgets/controls",
            "layout": "IPY_MODEL_6de26d887d0a4799aa3317b6501ee835"
          }
        },
        "5f02c8b215fc41079a8642fa74c8f257": {
          "model_module": "@jupyter-widgets/controls",
          "model_name": "ProgressStyleModel",
          "state": {
            "_view_name": "StyleView",
            "_model_name": "ProgressStyleModel",
            "description_width": "initial",
            "_view_module": "@jupyter-widgets/base",
            "_model_module_version": "1.5.0",
            "_view_count": null,
            "_view_module_version": "1.2.0",
            "bar_color": null,
            "_model_module": "@jupyter-widgets/controls"
          }
        },
        "1f77570c8edd42edb2473b7aa9f9f3bf": {
          "model_module": "@jupyter-widgets/base",
          "model_name": "LayoutModel",
          "state": {
            "_view_name": "LayoutView",
            "grid_template_rows": null,
            "right": null,
            "justify_content": null,
            "_view_module": "@jupyter-widgets/base",
            "overflow": null,
            "_model_module_version": "1.2.0",
            "_view_count": null,
            "flex_flow": null,
            "width": null,
            "min_width": null,
            "border": null,
            "align_items": null,
            "bottom": null,
            "_model_module": "@jupyter-widgets/base",
            "top": null,
            "grid_column": null,
            "overflow_y": null,
            "overflow_x": null,
            "grid_auto_flow": null,
            "grid_area": null,
            "grid_template_columns": null,
            "flex": null,
            "_model_name": "LayoutModel",
            "justify_items": null,
            "grid_row": null,
            "max_height": null,
            "align_content": null,
            "visibility": null,
            "align_self": null,
            "height": null,
            "min_height": null,
            "padding": null,
            "grid_auto_rows": null,
            "grid_gap": null,
            "max_width": null,
            "order": null,
            "_view_module_version": "1.2.0",
            "grid_template_areas": null,
            "object_position": null,
            "object_fit": null,
            "grid_auto_columns": null,
            "margin": null,
            "display": null,
            "left": null
          }
        },
        "dba16a0ef59840f7a0da7efa187c83cd": {
          "model_module": "@jupyter-widgets/controls",
          "model_name": "DescriptionStyleModel",
          "state": {
            "_view_name": "StyleView",
            "_model_name": "DescriptionStyleModel",
            "description_width": "",
            "_view_module": "@jupyter-widgets/base",
            "_model_module_version": "1.5.0",
            "_view_count": null,
            "_view_module_version": "1.2.0",
            "_model_module": "@jupyter-widgets/controls"
          }
        },
        "6de26d887d0a4799aa3317b6501ee835": {
          "model_module": "@jupyter-widgets/base",
          "model_name": "LayoutModel",
          "state": {
            "_view_name": "LayoutView",
            "grid_template_rows": null,
            "right": null,
            "justify_content": null,
            "_view_module": "@jupyter-widgets/base",
            "overflow": null,
            "_model_module_version": "1.2.0",
            "_view_count": null,
            "flex_flow": null,
            "width": null,
            "min_width": null,
            "border": null,
            "align_items": null,
            "bottom": null,
            "_model_module": "@jupyter-widgets/base",
            "top": null,
            "grid_column": null,
            "overflow_y": null,
            "overflow_x": null,
            "grid_auto_flow": null,
            "grid_area": null,
            "grid_template_columns": null,
            "flex": null,
            "_model_name": "LayoutModel",
            "justify_items": null,
            "grid_row": null,
            "max_height": null,
            "align_content": null,
            "visibility": null,
            "align_self": null,
            "height": null,
            "min_height": null,
            "padding": null,
            "grid_auto_rows": null,
            "grid_gap": null,
            "max_width": null,
            "order": null,
            "_view_module_version": "1.2.0",
            "grid_template_areas": null,
            "object_position": null,
            "object_fit": null,
            "grid_auto_columns": null,
            "margin": null,
            "display": null,
            "left": null
          }
        },
        "d2f8fd9a57e840278f8e2de9aead1af1": {
          "model_module": "@jupyter-widgets/controls",
          "model_name": "HBoxModel",
          "state": {
            "_view_name": "HBoxView",
            "_dom_classes": [],
            "_model_name": "HBoxModel",
            "_view_module": "@jupyter-widgets/controls",
            "_model_module_version": "1.5.0",
            "_view_count": null,
            "_view_module_version": "1.5.0",
            "box_style": "",
            "layout": "IPY_MODEL_b970e144d6834517999e94344463792b",
            "_model_module": "@jupyter-widgets/controls",
            "children": [
              "IPY_MODEL_d824a5743e2d4160a0fd8e9f1e322b3d",
              "IPY_MODEL_cead2042f58f4e28adf395ab0dd655d8"
            ]
          }
        },
        "b970e144d6834517999e94344463792b": {
          "model_module": "@jupyter-widgets/base",
          "model_name": "LayoutModel",
          "state": {
            "_view_name": "LayoutView",
            "grid_template_rows": null,
            "right": null,
            "justify_content": null,
            "_view_module": "@jupyter-widgets/base",
            "overflow": null,
            "_model_module_version": "1.2.0",
            "_view_count": null,
            "flex_flow": null,
            "width": null,
            "min_width": null,
            "border": null,
            "align_items": null,
            "bottom": null,
            "_model_module": "@jupyter-widgets/base",
            "top": null,
            "grid_column": null,
            "overflow_y": null,
            "overflow_x": null,
            "grid_auto_flow": null,
            "grid_area": null,
            "grid_template_columns": null,
            "flex": null,
            "_model_name": "LayoutModel",
            "justify_items": null,
            "grid_row": null,
            "max_height": null,
            "align_content": null,
            "visibility": null,
            "align_self": null,
            "height": null,
            "min_height": null,
            "padding": null,
            "grid_auto_rows": null,
            "grid_gap": null,
            "max_width": null,
            "order": null,
            "_view_module_version": "1.2.0",
            "grid_template_areas": null,
            "object_position": null,
            "object_fit": null,
            "grid_auto_columns": null,
            "margin": null,
            "display": null,
            "left": null
          }
        },
        "d824a5743e2d4160a0fd8e9f1e322b3d": {
          "model_module": "@jupyter-widgets/controls",
          "model_name": "FloatProgressModel",
          "state": {
            "_view_name": "ProgressView",
            "style": "IPY_MODEL_48a095af24704b10a1d3a6ea7d7d90b9",
            "_dom_classes": [],
            "description": "100%",
            "_model_name": "FloatProgressModel",
            "bar_style": "success",
            "max": 150,
            "_view_module": "@jupyter-widgets/controls",
            "_model_module_version": "1.5.0",
            "value": 150,
            "_view_count": null,
            "_view_module_version": "1.5.0",
            "orientation": "horizontal",
            "min": 0,
            "description_tooltip": null,
            "_model_module": "@jupyter-widgets/controls",
            "layout": "IPY_MODEL_bc4596918bd6462eb3afe5d642695df4"
          }
        },
        "cead2042f58f4e28adf395ab0dd655d8": {
          "model_module": "@jupyter-widgets/controls",
          "model_name": "HTMLModel",
          "state": {
            "_view_name": "HTMLView",
            "style": "IPY_MODEL_d70169ee114b41b5aafb8edb6adb1c4c",
            "_dom_classes": [],
            "description": "",
            "_model_name": "HTMLModel",
            "placeholder": "​",
            "_view_module": "@jupyter-widgets/controls",
            "_model_module_version": "1.5.0",
            "value": " 150/150 [01:24&lt;00:00,  1.78it/s]",
            "_view_count": null,
            "_view_module_version": "1.5.0",
            "description_tooltip": null,
            "_model_module": "@jupyter-widgets/controls",
            "layout": "IPY_MODEL_ddf9203a68dd4a638023174965a733cc"
          }
        },
        "48a095af24704b10a1d3a6ea7d7d90b9": {
          "model_module": "@jupyter-widgets/controls",
          "model_name": "ProgressStyleModel",
          "state": {
            "_view_name": "StyleView",
            "_model_name": "ProgressStyleModel",
            "description_width": "initial",
            "_view_module": "@jupyter-widgets/base",
            "_model_module_version": "1.5.0",
            "_view_count": null,
            "_view_module_version": "1.2.0",
            "bar_color": null,
            "_model_module": "@jupyter-widgets/controls"
          }
        },
        "bc4596918bd6462eb3afe5d642695df4": {
          "model_module": "@jupyter-widgets/base",
          "model_name": "LayoutModel",
          "state": {
            "_view_name": "LayoutView",
            "grid_template_rows": null,
            "right": null,
            "justify_content": null,
            "_view_module": "@jupyter-widgets/base",
            "overflow": null,
            "_model_module_version": "1.2.0",
            "_view_count": null,
            "flex_flow": null,
            "width": null,
            "min_width": null,
            "border": null,
            "align_items": null,
            "bottom": null,
            "_model_module": "@jupyter-widgets/base",
            "top": null,
            "grid_column": null,
            "overflow_y": null,
            "overflow_x": null,
            "grid_auto_flow": null,
            "grid_area": null,
            "grid_template_columns": null,
            "flex": null,
            "_model_name": "LayoutModel",
            "justify_items": null,
            "grid_row": null,
            "max_height": null,
            "align_content": null,
            "visibility": null,
            "align_self": null,
            "height": null,
            "min_height": null,
            "padding": null,
            "grid_auto_rows": null,
            "grid_gap": null,
            "max_width": null,
            "order": null,
            "_view_module_version": "1.2.0",
            "grid_template_areas": null,
            "object_position": null,
            "object_fit": null,
            "grid_auto_columns": null,
            "margin": null,
            "display": null,
            "left": null
          }
        },
        "d70169ee114b41b5aafb8edb6adb1c4c": {
          "model_module": "@jupyter-widgets/controls",
          "model_name": "DescriptionStyleModel",
          "state": {
            "_view_name": "StyleView",
            "_model_name": "DescriptionStyleModel",
            "description_width": "",
            "_view_module": "@jupyter-widgets/base",
            "_model_module_version": "1.5.0",
            "_view_count": null,
            "_view_module_version": "1.2.0",
            "_model_module": "@jupyter-widgets/controls"
          }
        },
        "ddf9203a68dd4a638023174965a733cc": {
          "model_module": "@jupyter-widgets/base",
          "model_name": "LayoutModel",
          "state": {
            "_view_name": "LayoutView",
            "grid_template_rows": null,
            "right": null,
            "justify_content": null,
            "_view_module": "@jupyter-widgets/base",
            "overflow": null,
            "_model_module_version": "1.2.0",
            "_view_count": null,
            "flex_flow": null,
            "width": null,
            "min_width": null,
            "border": null,
            "align_items": null,
            "bottom": null,
            "_model_module": "@jupyter-widgets/base",
            "top": null,
            "grid_column": null,
            "overflow_y": null,
            "overflow_x": null,
            "grid_auto_flow": null,
            "grid_area": null,
            "grid_template_columns": null,
            "flex": null,
            "_model_name": "LayoutModel",
            "justify_items": null,
            "grid_row": null,
            "max_height": null,
            "align_content": null,
            "visibility": null,
            "align_self": null,
            "height": null,
            "min_height": null,
            "padding": null,
            "grid_auto_rows": null,
            "grid_gap": null,
            "max_width": null,
            "order": null,
            "_view_module_version": "1.2.0",
            "grid_template_areas": null,
            "object_position": null,
            "object_fit": null,
            "grid_auto_columns": null,
            "margin": null,
            "display": null,
            "left": null
          }
        }
      }
    }
  },
  "cells": [
    {
      "cell_type": "markdown",
      "metadata": {
        "id": "view-in-github",
        "colab_type": "text"
      },
      "source": [
        "<a href=\"https://colab.research.google.com/github/gvigkannan/COVID_CXR/blob/main/Brixia_GlobalScore_Temp.ipynb\" target=\"_parent\"><img src=\"https://colab.research.google.com/assets/colab-badge.svg\" alt=\"Open In Colab\"/></a>"
      ]
    },
    {
      "cell_type": "code",
      "metadata": {
        "id": "5ipLpib1r5ms"
      },
      "source": [
        "## Author: Vignesh Kannan\n",
        "## Notebook Objective:\n",
        "## To use the COVID Images from Brixia and use the associated Brixia scores to get a prediction.\n",
        "\n",
        "## Model Specifically for Brixia Files."
      ],
      "execution_count": null,
      "outputs": []
    },
    {
      "cell_type": "markdown",
      "metadata": {
        "id": "nAvsHyeQsTx0"
      },
      "source": [
        "## Libraries\n"
      ]
    },
    {
      "cell_type": "code",
      "metadata": {
        "id": "PTnz_uzCsVnj"
      },
      "source": [
        "from __future__ import print_function, division\n",
        "import numpy as np\n",
        "import time\n",
        "import os \n",
        "import copy\n",
        "import matplotlib.pyplot as plt\n",
        "from tqdm.auto import tqdm\n",
        "import glob\n",
        "import pandas as pd\n",
        "import csv\n",
        "from PIL import Image, ImageOps\n",
        "import cv2\n",
        "from collections import OrderedDict"
      ],
      "execution_count": null,
      "outputs": []
    },
    {
      "cell_type": "code",
      "metadata": {
        "id": "aGN023CHtNbT"
      },
      "source": [
        "import torch \n",
        "import torch.nn as nn\n",
        "import torch.optim as optim\n",
        "from torch.optim import lr_scheduler\n",
        "import torchvision, torchsummary\n",
        "from torchvision import datasets, models, transforms as T\n",
        "from torch.utils.data import Dataset, DataLoader, TensorDataset\n",
        "from torch.utils.tensorboard import SummaryWriter"
      ],
      "execution_count": null,
      "outputs": []
    },
    {
      "cell_type": "code",
      "metadata": {
        "colab": {
          "base_uri": "https://localhost:8080/"
        },
        "id": "IRjtrrftsX9T",
        "outputId": "bc11aa2f-6e91-40bd-cb15-001b31cf24ad"
      },
      "source": [
        "## XRay Vision Model\n",
        "## Downloading Torch XRay vision Models\n",
        "!pip install torchxrayvision\n",
        "import torchxrayvision as xrv"
      ],
      "execution_count": null,
      "outputs": [
        {
          "output_type": "stream",
          "text": [
            "Collecting torchxrayvision\n",
            "\u001b[?25l  Downloading https://files.pythonhosted.org/packages/b1/9c/ef5e4cd2aba0e0efe30818713b204d2ffc9efae7565eab64a3fe292c3856/torchxrayvision-0.0.25-py3-none-any.whl (25.0MB)\n",
            "\u001b[K     |████████████████████████████████| 25.0MB 1.3MB/s \n",
            "\u001b[?25hRequirement already satisfied: tqdm>=4 in /usr/local/lib/python3.7/dist-packages (from torchxrayvision) (4.41.1)\n",
            "Requirement already satisfied: torchvision>=0.5 in /usr/local/lib/python3.7/dist-packages (from torchxrayvision) (0.9.1+cu101)\n",
            "Requirement already satisfied: requests>=1 in /usr/local/lib/python3.7/dist-packages (from torchxrayvision) (2.23.0)\n",
            "Requirement already satisfied: pandas>=1 in /usr/local/lib/python3.7/dist-packages (from torchxrayvision) (1.1.5)\n",
            "Requirement already satisfied: scikit-image>=0.16 in /usr/local/lib/python3.7/dist-packages (from torchxrayvision) (0.16.2)\n",
            "Collecting pydicom>=1\n",
            "\u001b[?25l  Downloading https://files.pythonhosted.org/packages/f4/15/df16546bc59bfca390cf072d473fb2c8acd4231636f64356593a63137e55/pydicom-2.1.2-py3-none-any.whl (1.9MB)\n",
            "\u001b[K     |████████████████████████████████| 1.9MB 65.0MB/s \n",
            "\u001b[?25hRequirement already satisfied: numpy>=1 in /usr/local/lib/python3.7/dist-packages (from torchxrayvision) (1.19.5)\n",
            "Requirement already satisfied: torch>=1 in /usr/local/lib/python3.7/dist-packages (from torchxrayvision) (1.8.1+cu101)\n",
            "Requirement already satisfied: pillow>=4.1.1 in /usr/local/lib/python3.7/dist-packages (from torchvision>=0.5->torchxrayvision) (7.1.2)\n",
            "Requirement already satisfied: urllib3!=1.25.0,!=1.25.1,<1.26,>=1.21.1 in /usr/local/lib/python3.7/dist-packages (from requests>=1->torchxrayvision) (1.24.3)\n",
            "Requirement already satisfied: idna<3,>=2.5 in /usr/local/lib/python3.7/dist-packages (from requests>=1->torchxrayvision) (2.10)\n",
            "Requirement already satisfied: certifi>=2017.4.17 in /usr/local/lib/python3.7/dist-packages (from requests>=1->torchxrayvision) (2020.12.5)\n",
            "Requirement already satisfied: chardet<4,>=3.0.2 in /usr/local/lib/python3.7/dist-packages (from requests>=1->torchxrayvision) (3.0.4)\n",
            "Requirement already satisfied: pytz>=2017.2 in /usr/local/lib/python3.7/dist-packages (from pandas>=1->torchxrayvision) (2018.9)\n",
            "Requirement already satisfied: python-dateutil>=2.7.3 in /usr/local/lib/python3.7/dist-packages (from pandas>=1->torchxrayvision) (2.8.1)\n",
            "Requirement already satisfied: matplotlib!=3.0.0,>=2.0.0 in /usr/local/lib/python3.7/dist-packages (from scikit-image>=0.16->torchxrayvision) (3.2.2)\n",
            "Requirement already satisfied: scipy>=0.19.0 in /usr/local/lib/python3.7/dist-packages (from scikit-image>=0.16->torchxrayvision) (1.4.1)\n",
            "Requirement already satisfied: networkx>=2.0 in /usr/local/lib/python3.7/dist-packages (from scikit-image>=0.16->torchxrayvision) (2.5.1)\n",
            "Requirement already satisfied: PyWavelets>=0.4.0 in /usr/local/lib/python3.7/dist-packages (from scikit-image>=0.16->torchxrayvision) (1.1.1)\n",
            "Requirement already satisfied: imageio>=2.3.0 in /usr/local/lib/python3.7/dist-packages (from scikit-image>=0.16->torchxrayvision) (2.4.1)\n",
            "Requirement already satisfied: typing-extensions in /usr/local/lib/python3.7/dist-packages (from torch>=1->torchxrayvision) (3.7.4.3)\n",
            "Requirement already satisfied: six>=1.5 in /usr/local/lib/python3.7/dist-packages (from python-dateutil>=2.7.3->pandas>=1->torchxrayvision) (1.15.0)\n",
            "Requirement already satisfied: cycler>=0.10 in /usr/local/lib/python3.7/dist-packages (from matplotlib!=3.0.0,>=2.0.0->scikit-image>=0.16->torchxrayvision) (0.10.0)\n",
            "Requirement already satisfied: pyparsing!=2.0.4,!=2.1.2,!=2.1.6,>=2.0.1 in /usr/local/lib/python3.7/dist-packages (from matplotlib!=3.0.0,>=2.0.0->scikit-image>=0.16->torchxrayvision) (2.4.7)\n",
            "Requirement already satisfied: kiwisolver>=1.0.1 in /usr/local/lib/python3.7/dist-packages (from matplotlib!=3.0.0,>=2.0.0->scikit-image>=0.16->torchxrayvision) (1.3.1)\n",
            "Requirement already satisfied: decorator<5,>=4.3 in /usr/local/lib/python3.7/dist-packages (from networkx>=2.0->scikit-image>=0.16->torchxrayvision) (4.4.2)\n",
            "Installing collected packages: pydicom, torchxrayvision\n",
            "Successfully installed pydicom-2.1.2 torchxrayvision-0.0.25\n"
          ],
          "name": "stdout"
        }
      ]
    },
    {
      "cell_type": "markdown",
      "metadata": {
        "id": "HWz7g6QJsbD8"
      },
      "source": [
        "## Data Related\n"
      ]
    },
    {
      "cell_type": "code",
      "metadata": {
        "colab": {
          "base_uri": "https://localhost:8080/"
        },
        "id": "c_1WLJV1scy_",
        "outputId": "7a1d0226-0a88-4b93-ab69-4042904b377d"
      },
      "source": [
        "## To access the drive files!\n",
        "from google.colab import drive\n",
        "drive.mount(\"/content/drive\")"
      ],
      "execution_count": null,
      "outputs": [
        {
          "output_type": "stream",
          "text": [
            "Mounted at /content/drive\n"
          ],
          "name": "stdout"
        }
      ]
    },
    {
      "cell_type": "code",
      "metadata": {
        "id": "V6ORqbxKsik-"
      },
      "source": [
        "def set_state(random_seed):\n",
        "  np.random.seed(random_seed)\n",
        "  torch.manual_seed(random_seed)\n",
        "  "
      ],
      "execution_count": null,
      "outputs": []
    },
    {
      "cell_type": "markdown",
      "metadata": {
        "id": "hKfQOOM5-YSP"
      },
      "source": [
        "## Hyperparam\n"
      ]
    },
    {
      "cell_type": "code",
      "metadata": {
        "id": "SFbwaDI0TEat"
      },
      "source": [
        "## Hyperparams!\n",
        "STEP_FLAG = False\n",
        "EPOCHS = 150\n",
        "BATCH_SIZE = 32\n",
        "LEARNING_RATE = 0.01\n",
        "RANDOM_STATE = 0\n",
        "MODEL_NAME = \"_\".join((\"BRIXIA_GlobalScore_RS\"+str(RANDOM_STATE),\"E\"+str(EPOCHS),\"OverfitCheck_v2\"))\n",
        "MODEL_PATH = \"/content/drive/MyDrive/Models\"\n",
        "set_state(RANDOM_STATE)"
      ],
      "execution_count": null,
      "outputs": []
    },
    {
      "cell_type": "code",
      "metadata": {
        "colab": {
          "base_uri": "https://localhost:8080/"
        },
        "id": "0xuXdspD9Sru",
        "outputId": "49bebf9d-2861-482a-f19a-59e114d7e68a"
      },
      "source": [
        "print(MODEL_NAME)"
      ],
      "execution_count": null,
      "outputs": [
        {
          "output_type": "stream",
          "text": [
            "BRIXIA_GlobalScore_RS0_E150_OverfitCheck_v2\n"
          ],
          "name": "stdout"
        }
      ]
    },
    {
      "cell_type": "markdown",
      "metadata": {
        "id": "aMcjb0SCcq9N"
      },
      "source": [
        "## EDA and Preprocessing"
      ]
    },
    {
      "cell_type": "code",
      "metadata": {
        "id": "Y6qOPS_JQrsR"
      },
      "source": [
        "## Loading the dataset\n",
        "IMG_DIR = \"/content/drive/MyDrive/Dataset/brixia_raw_monochrome_306/brixia_raw_monochrome_306_img\"\n",
        "data_fnames = os.listdir(IMG_DIR)\n",
        "use_cols = ['Filename', \n",
        "            'BrixiaScoreGlobal']\n",
        "            # 'Brixia_RegionA', \n",
        "            # 'Brixia_RegionB', \n",
        "            # 'Brixia_RegionC', \n",
        "            # 'Brixia_RegionD', \n",
        "            # 'Brixia_RegionE', \n",
        "            # 'Brixia_RegionF']\n",
        "annot_train = pd.read_csv(\"/content/drive/MyDrive/Dataset/brixia_raw_monochrome_306/BRIXIA_RAW_MONOCRHOME_RS0_train_v1.csv\", usecols = use_cols)\n",
        "annot_test = pd.read_csv(\"/content/drive/MyDrive/Dataset/brixia_raw_monochrome_306/BRIXIA_RAW_MONOCRHOME_RS0_test_v1.csv\", usecols = use_cols)\n",
        "annot_val = pd.read_csv(\"/content/drive/MyDrive/Dataset/brixia_raw_monochrome_306/BRIXIA_RAW_MONOCRHOME_RS0_val_v1.csv\", usecols = use_cols)"
      ],
      "execution_count": null,
      "outputs": []
    },
    {
      "cell_type": "code",
      "metadata": {
        "colab": {
          "base_uri": "https://localhost:8080/"
        },
        "id": "afbC8jnYSePP",
        "outputId": "dd004286-3f7e-4e9c-d908-11d727bad37c"
      },
      "source": [
        "data_fnames[:5]"
      ],
      "execution_count": null,
      "outputs": [
        {
          "output_type": "execute_result",
          "data": {
            "text/plain": [
              "['98728340646032925.png',\n",
              " '166414673190348825.png',\n",
              " '746021306010419641.png',\n",
              " '759417224465559435.png',\n",
              " '849569894482494578.png']"
            ]
          },
          "metadata": {
            "tags": []
          },
          "execution_count": 102
        }
      ]
    },
    {
      "cell_type": "code",
      "metadata": {
        "colab": {
          "base_uri": "https://localhost:8080/",
          "height": 195
        },
        "id": "fSa0dt5GSVDS",
        "outputId": "ad0c7a0a-85ef-4829-b35e-60cadc992fea"
      },
      "source": [
        "annot_train.head()"
      ],
      "execution_count": null,
      "outputs": [
        {
          "output_type": "execute_result",
          "data": {
            "text/html": [
              "<div>\n",
              "<style scoped>\n",
              "    .dataframe tbody tr th:only-of-type {\n",
              "        vertical-align: middle;\n",
              "    }\n",
              "\n",
              "    .dataframe tbody tr th {\n",
              "        vertical-align: top;\n",
              "    }\n",
              "\n",
              "    .dataframe thead th {\n",
              "        text-align: right;\n",
              "    }\n",
              "</style>\n",
              "<table border=\"1\" class=\"dataframe\">\n",
              "  <thead>\n",
              "    <tr style=\"text-align: right;\">\n",
              "      <th></th>\n",
              "      <th>Filename</th>\n",
              "      <th>BrixiaScoreGlobal</th>\n",
              "    </tr>\n",
              "  </thead>\n",
              "  <tbody>\n",
              "    <tr>\n",
              "      <th>0</th>\n",
              "      <td>1092050547909523059.dcm</td>\n",
              "      <td>7</td>\n",
              "    </tr>\n",
              "    <tr>\n",
              "      <th>1</th>\n",
              "      <td>701539317072750190.dcm</td>\n",
              "      <td>7</td>\n",
              "    </tr>\n",
              "    <tr>\n",
              "      <th>2</th>\n",
              "      <td>825576278144514535.dcm</td>\n",
              "      <td>17</td>\n",
              "    </tr>\n",
              "    <tr>\n",
              "      <th>3</th>\n",
              "      <td>396926701473173083.dcm</td>\n",
              "      <td>7</td>\n",
              "    </tr>\n",
              "    <tr>\n",
              "      <th>4</th>\n",
              "      <td>850877579464461127.dcm</td>\n",
              "      <td>0</td>\n",
              "    </tr>\n",
              "  </tbody>\n",
              "</table>\n",
              "</div>"
            ],
            "text/plain": [
              "                  Filename  BrixiaScoreGlobal\n",
              "0  1092050547909523059.dcm                  7\n",
              "1   701539317072750190.dcm                  7\n",
              "2   825576278144514535.dcm                 17\n",
              "3   396926701473173083.dcm                  7\n",
              "4   850877579464461127.dcm                  0"
            ]
          },
          "metadata": {
            "tags": []
          },
          "execution_count": 103
        }
      ]
    },
    {
      "cell_type": "code",
      "metadata": {
        "id": "Ia83VMRW91Gc"
      },
      "source": [
        "def replace_filename(df):\n",
        "  \"\"\" Replace the .format to match with the specific images! \"\"\"\n",
        "  df['Filename'] = df['Filename'].apply(lambda x: x.split(\".\")[0]).apply(lambda x: \".\".join((x, \"png\")))\n"
      ],
      "execution_count": null,
      "outputs": []
    },
    {
      "cell_type": "code",
      "metadata": {
        "id": "_3aGw588dzdM"
      },
      "source": [
        "replace_filename(annot_train)\n",
        "replace_filename(annot_val)\n",
        "replace_filename(annot_test)"
      ],
      "execution_count": null,
      "outputs": []
    },
    {
      "cell_type": "code",
      "metadata": {
        "colab": {
          "base_uri": "https://localhost:8080/",
          "height": 195
        },
        "id": "7hmlER7XNc-M",
        "outputId": "761b2abc-98e1-4e09-aab0-c668aa13a110"
      },
      "source": [
        "annot_train.head()"
      ],
      "execution_count": null,
      "outputs": [
        {
          "output_type": "execute_result",
          "data": {
            "text/html": [
              "<div>\n",
              "<style scoped>\n",
              "    .dataframe tbody tr th:only-of-type {\n",
              "        vertical-align: middle;\n",
              "    }\n",
              "\n",
              "    .dataframe tbody tr th {\n",
              "        vertical-align: top;\n",
              "    }\n",
              "\n",
              "    .dataframe thead th {\n",
              "        text-align: right;\n",
              "    }\n",
              "</style>\n",
              "<table border=\"1\" class=\"dataframe\">\n",
              "  <thead>\n",
              "    <tr style=\"text-align: right;\">\n",
              "      <th></th>\n",
              "      <th>Filename</th>\n",
              "      <th>BrixiaScoreGlobal</th>\n",
              "    </tr>\n",
              "  </thead>\n",
              "  <tbody>\n",
              "    <tr>\n",
              "      <th>0</th>\n",
              "      <td>1092050547909523059.png</td>\n",
              "      <td>7</td>\n",
              "    </tr>\n",
              "    <tr>\n",
              "      <th>1</th>\n",
              "      <td>701539317072750190.png</td>\n",
              "      <td>7</td>\n",
              "    </tr>\n",
              "    <tr>\n",
              "      <th>2</th>\n",
              "      <td>825576278144514535.png</td>\n",
              "      <td>17</td>\n",
              "    </tr>\n",
              "    <tr>\n",
              "      <th>3</th>\n",
              "      <td>396926701473173083.png</td>\n",
              "      <td>7</td>\n",
              "    </tr>\n",
              "    <tr>\n",
              "      <th>4</th>\n",
              "      <td>850877579464461127.png</td>\n",
              "      <td>0</td>\n",
              "    </tr>\n",
              "  </tbody>\n",
              "</table>\n",
              "</div>"
            ],
            "text/plain": [
              "                  Filename  BrixiaScoreGlobal\n",
              "0  1092050547909523059.png                  7\n",
              "1   701539317072750190.png                  7\n",
              "2   825576278144514535.png                 17\n",
              "3   396926701473173083.png                  7\n",
              "4   850877579464461127.png                  0"
            ]
          },
          "metadata": {
            "tags": []
          },
          "execution_count": 15
        }
      ]
    },
    {
      "cell_type": "code",
      "metadata": {
        "colab": {
          "base_uri": "https://localhost:8080/"
        },
        "id": "HZKobFWUQrsS",
        "outputId": "ff6ad3a5-0446-4fed-a34b-be884d604e14"
      },
      "source": [
        "## To get the annotations for those files that exist.\n",
        "annot_train = annot_train.loc[annot_train['Filename'].isin(data_fnames)]\n",
        "annot_test = annot_test.loc[annot_test['Filename'].isin(data_fnames)]\n",
        "annot_val = annot_val.loc[annot_val['Filename'].isin(data_fnames)]\n",
        "\n",
        "# brixia_cohen_covid.to_csv(\"Brixia_COVID_Cohen.csv\")\n",
        "print(\"Total Files Accessible for train: \", len(annot_train))\n",
        "print(\"Total Files Accessible for test: \", len(annot_test))\n",
        "print(\"Total Files Accessible for val: \", len(annot_val))"
      ],
      "execution_count": null,
      "outputs": [
        {
          "output_type": "stream",
          "text": [
            "Total Files Accessible for train:  277\n",
            "Total Files Accessible for test:  15\n",
            "Total Files Accessible for val:  14\n"
          ],
          "name": "stdout"
        }
      ]
    },
    {
      "cell_type": "code",
      "metadata": {
        "id": "6aShxiDpUlZv"
      },
      "source": [
        "def load_img(filename, target_size = 224):\n",
        "  \"\"\"\n",
        "  Load and resize the grayscale image.\n",
        "  :param filename: path/filename\n",
        "  :param target_size: output shape of image\n",
        "  :return: loaded images as (width, height, 1)\n",
        "  \"\"\"\n",
        "\n",
        "  img = cv2.imread(filename, cv2.IMREAD_GRAYSCALE)\n",
        "  if img is None:\n",
        "    print(\"File Couldn't be recognized: {}\".format(filename))\n",
        "    return None\n",
        "\n",
        "  img = img / 255.0   ## Normalizing.\n",
        "  img = cv2.resize(img, (target_size, target_size))\n",
        "  ## To match Pytorch Requirement\n",
        "  img = np.reshape(img, (1, ) + img.shape ) ## Reshaping\n",
        "  return img"
      ],
      "execution_count": null,
      "outputs": []
    },
    {
      "cell_type": "code",
      "metadata": {
        "id": "WlMacYREecr3"
      },
      "source": [
        "def shuffle_split(X, y, test_ratio = 0.2):\n",
        "  \"\"\"\n",
        "  Shuffle and Split Dataset\n",
        "  \"\"\"\n",
        "  lenData = len(y)\n",
        "  ind = np.random.permutation(np.arange(lenData))\n",
        "  X, y = X[ind], y[ind]\n",
        "  testX, testY = X[:int(lenData*test_ratio)], y[:int(lenData*test_ratio)]\n",
        "  trainX, trainY = X[int(lenData*test_ratio):], y[int(lenData*test_ratio):]\n",
        "  return trainX, trainY, testX, testY\n",
        "\n"
      ],
      "execution_count": null,
      "outputs": []
    },
    {
      "cell_type": "code",
      "metadata": {
        "id": "gNwuVVpidZa2"
      },
      "source": [
        "## New Verion!\n",
        "def get_data(img_dir, annot_data, target_size= 224 ):\n",
        "  \"\"\"\n",
        "  Get the images and annotation for the given annotated file!\n",
        "  \"\"\"\n",
        "  X, Y = [], []\n",
        "  ## For all the images\n",
        "  for idx in tqdm(annot_data.itertuples()):\n",
        "    ## Loading Images:\n",
        "    img = load_img(os.path.join(img_dir, idx.Filename), target_size)\n",
        "    ##To do. Implement Equalize\n",
        "    Y.append(idx.BrixiaScoreGlobal)  ## For the Senior Score.\n",
        "    X.append(img)\n",
        "  X = np.asarray(X).astype(np.float32)\n",
        "  Y = np.asarray(Y).astype(np.float32) \n",
        "\n",
        "  return X, Y\n",
        "# len_data = len(y)\n",
        "# # lengths = [int(len_data*(1-test_size)), int(len_data*test_size)]\n",
        "# trainX, trainY, testX, testY = shuffle_split(X, y, test_ratio = 0.1)"
      ],
      "execution_count": null,
      "outputs": []
    },
    {
      "cell_type": "code",
      "metadata": {
        "colab": {
          "base_uri": "https://localhost:8080/",
          "height": 197,
          "referenced_widgets": [
            "38935e244bf04b72a2b582d3fe078cde",
            "809f2a351932410cbe24324b9750e9e1",
            "97ed0f339c75403ea7f1f3d568963f97",
            "78cf4ee8d6104f5e8fefa2ab56b4cb4d",
            "634390205ba447dd97f6cc537ab22ef5",
            "0b387b58416a45caa47e87863e271d07",
            "ef2598c93b0b410f9a60d55f8bfb612a",
            "d000090daf854ad594aa2e7b8b15d15b",
            "b1dc8d3f1d744546a30d806973bb2664",
            "5a10dee254fd49d18231fac724347705",
            "e81067ad1696451bb9057f1719c9ebe8",
            "2707e4e27afe405ea39769f9feb1ccea",
            "b8900ae11d884bcd9fe2b2ba8a6feb4d",
            "89051dcc420242c688ed24c0939f722b",
            "627c7dfbae4f4d74975310d1d8f4d81a",
            "19c96307c2374b788a7c407fc6416db7",
            "bbf2ab0a996d459b91b953404f464106",
            "0b079245023c49709b29a37844df42f0",
            "e780543f1c67414e804f8968efa8b57e",
            "24e20c7b0bee4fafaee2fe509825c02b",
            "5f02c8b215fc41079a8642fa74c8f257",
            "1f77570c8edd42edb2473b7aa9f9f3bf",
            "dba16a0ef59840f7a0da7efa187c83cd",
            "6de26d887d0a4799aa3317b6501ee835"
          ]
        },
        "id": "0xCirTL7nY2R",
        "outputId": "67ae9607-6862-41a3-ac4d-862ef00c6170"
      },
      "source": [
        "trainX, trainY = get_data(IMG_DIR, annot_data = annot_train)  ## 7 mins! ## 26s previously!\n",
        "valX, valY = get_data(IMG_DIR, annot_data = annot_val)\n",
        "testX, testY = get_data(IMG_DIR, annot_data = annot_test)\n",
        "print(\"TrainX: \", np.shape(trainX))\n",
        "print(\"TrainY: \", np.shape(trainY))"
      ],
      "execution_count": null,
      "outputs": [
        {
          "output_type": "display_data",
          "data": {
            "application/vnd.jupyter.widget-view+json": {
              "model_id": "38935e244bf04b72a2b582d3fe078cde",
              "version_minor": 0,
              "version_major": 2
            },
            "text/plain": [
              "HBox(children=(FloatProgress(value=1.0, bar_style='info', max=1.0), HTML(value='')))"
            ]
          },
          "metadata": {
            "tags": []
          }
        },
        {
          "output_type": "stream",
          "text": [
            "\n"
          ],
          "name": "stdout"
        },
        {
          "output_type": "display_data",
          "data": {
            "application/vnd.jupyter.widget-view+json": {
              "model_id": "b1dc8d3f1d744546a30d806973bb2664",
              "version_minor": 0,
              "version_major": 2
            },
            "text/plain": [
              "HBox(children=(FloatProgress(value=1.0, bar_style='info', max=1.0), HTML(value='')))"
            ]
          },
          "metadata": {
            "tags": []
          }
        },
        {
          "output_type": "stream",
          "text": [
            "\n"
          ],
          "name": "stdout"
        },
        {
          "output_type": "display_data",
          "data": {
            "application/vnd.jupyter.widget-view+json": {
              "model_id": "bbf2ab0a996d459b91b953404f464106",
              "version_minor": 0,
              "version_major": 2
            },
            "text/plain": [
              "HBox(children=(FloatProgress(value=1.0, bar_style='info', max=1.0), HTML(value='')))"
            ]
          },
          "metadata": {
            "tags": []
          }
        },
        {
          "output_type": "stream",
          "text": [
            "\n",
            "TrainX:  (277, 1, 224, 224)\n",
            "TrainY:  (277,)\n"
          ],
          "name": "stdout"
        }
      ]
    },
    {
      "cell_type": "code",
      "metadata": {
        "id": "qCHFUBC59niA"
      },
      "source": [
        "# Ymean = trainY.mean()"
      ],
      "execution_count": null,
      "outputs": []
    },
    {
      "cell_type": "code",
      "metadata": {
        "id": "_Mfso-LV9giR"
      },
      "source": [
        "# trainY /= trainY.mean()\n",
        "# valY /= valY.mean()\n",
        "# testY /= testY.mean()"
      ],
      "execution_count": null,
      "outputs": []
    },
    {
      "cell_type": "code",
      "metadata": {
        "colab": {
          "base_uri": "https://localhost:8080/"
        },
        "id": "rm_SxkjlPyMi",
        "outputId": "6bc84cc8-0c37-425f-b500-df793c33b5ff"
      },
      "source": [
        "valY[0]"
      ],
      "execution_count": null,
      "outputs": [
        {
          "output_type": "execute_result",
          "data": {
            "text/plain": [
              "13.0"
            ]
          },
          "metadata": {
            "tags": []
          },
          "execution_count": 109
        }
      ]
    },
    {
      "cell_type": "markdown",
      "metadata": {
        "id": "PLDgOjHZdZA5"
      },
      "source": [
        ""
      ]
    },
    {
      "cell_type": "code",
      "metadata": {
        "id": "7wgfYShPBfbw"
      },
      "source": [
        "def get_dl(X, y, batch_size, train = False):\n",
        "  \"\"\" Convert dataset into Tensor Dataset and then return it's dataloader \"\"\"\n",
        "  dataset = TensorDataset(torch.tensor(X), torch.tensor(y))\n",
        "  if train: ## We wish to prioritize randomization during training\n",
        "    return DataLoader(dataset, batch_size, shuffle = True)\n",
        "  else:\n",
        "    return DataLoader(dataset, batch_size*2, shuffle = False)\n"
      ],
      "execution_count": null,
      "outputs": []
    },
    {
      "cell_type": "code",
      "metadata": {
        "id": "svz6AFkLdk16"
      },
      "source": [
        "## Getting DataLoaders!\n",
        "train_dl = get_dl(trainX, trainY, BATCH_SIZE, train = True)\n",
        "val_dl = get_dl(valX, valY, BATCH_SIZE, train = False)\n",
        "test_dl = get_dl(testX, testY, BATCH_SIZE, train = False)\n",
        "dataloaders = {'train': train_dl,  'val': val_dl,  'test': test_dl}\n",
        "data_sizes = {'train': len(trainY),  'val': len(valY),  'test': len(testY)}"
      ],
      "execution_count": null,
      "outputs": []
    },
    {
      "cell_type": "code",
      "metadata": {
        "id": "M_P1ehlzNKLi",
        "colab": {
          "base_uri": "https://localhost:8080/"
        },
        "outputId": "2337529a-20ba-45c6-9141-40e5c24eed8d"
      },
      "source": [
        "data_sizes"
      ],
      "execution_count": null,
      "outputs": [
        {
          "output_type": "execute_result",
          "data": {
            "text/plain": [
              "{'test': 15, 'train': 277, 'val': 14}"
            ]
          },
          "metadata": {
            "tags": []
          },
          "execution_count": 112
        }
      ]
    },
    {
      "cell_type": "code",
      "metadata": {
        "id": "WRdWK__lcXD3",
        "colab": {
          "base_uri": "https://localhost:8080/"
        },
        "outputId": "607b2a76-7641-444e-cc57-96da8b5764ba"
      },
      "source": [
        "## Creating an Instance of DataLoader!\n",
        "# train_dl = DataLoader(data, batch_size = 8, shuffle = True)\n",
        "X, y = next(iter(train_dl))\n",
        "print(np.shape(X))\n",
        "print(np.shape(y))"
      ],
      "execution_count": null,
      "outputs": [
        {
          "output_type": "stream",
          "text": [
            "torch.Size([32, 1, 224, 224])\n",
            "torch.Size([32])\n"
          ],
          "name": "stdout"
        }
      ]
    },
    {
      "cell_type": "markdown",
      "metadata": {
        "id": "MvQ5u3Q5dOOE"
      },
      "source": [
        "## Model Related"
      ]
    },
    {
      "cell_type": "code",
      "metadata": {
        "id": "FzKnzGRiV5S-",
        "colab": {
          "base_uri": "https://localhost:8080/"
        },
        "outputId": "7e25670a-71ae-4e64-cc4c-de02eb687b5d"
      },
      "source": [
        "device = torch.device(\"cuda:0\" if torch.cuda.is_available() else \"cpu\")\n",
        "model_brixia = xrv.models.DenseNet(weights = 'all')\n",
        "for param in model_brixia.parameters():\n",
        "  param.requires_grad = False\n",
        "model_brixia.op_threshs = None\n",
        "model_brixia.to(device)"
      ],
      "execution_count": null,
      "outputs": [
        {
          "output_type": "execute_result",
          "data": {
            "text/plain": [
              "XRV-DenseNet121-all"
            ]
          },
          "metadata": {
            "tags": []
          },
          "execution_count": 114
        }
      ]
    },
    {
      "cell_type": "code",
      "metadata": {
        "id": "80nzmHElf1cS"
      },
      "source": [
        "# torchsummary.summary(model_brixia, (1, 224, 224))"
      ],
      "execution_count": null,
      "outputs": []
    },
    {
      "cell_type": "markdown",
      "metadata": {
        "id": "l4wvig6-5u9T"
      },
      "source": [
        ""
      ]
    },
    {
      "cell_type": "code",
      "metadata": {
        "id": "NXq1mXcg0siI"
      },
      "source": [
        "FFNN = nn.Sequential(\n",
        "    nn.Linear(in_features = 1024, out_features = 1))\n",
        "\n"
      ],
      "execution_count": null,
      "outputs": []
    },
    {
      "cell_type": "code",
      "metadata": {
        "id": "FggaCiSsfbd6",
        "colab": {
          "base_uri": "https://localhost:8080/"
        },
        "outputId": "fece18ce-56ac-4a5f-f96e-3801512bc251"
      },
      "source": [
        "## Method 1: Update Existing Model.\n",
        "model_brixia.classifier = FFNN\n",
        "model_brixia.to(device)\n",
        "torchsummary.summary(model_brixia, (1, 224, 224))"
      ],
      "execution_count": null,
      "outputs": [
        {
          "output_type": "stream",
          "text": [
            "----------------------------------------------------------------\n",
            "        Layer (type)               Output Shape         Param #\n",
            "================================================================\n",
            "            Conv2d-1         [-1, 64, 112, 112]           3,136\n",
            "       BatchNorm2d-2         [-1, 64, 112, 112]             128\n",
            "              ReLU-3         [-1, 64, 112, 112]               0\n",
            "         MaxPool2d-4           [-1, 64, 56, 56]               0\n",
            "       BatchNorm2d-5           [-1, 64, 56, 56]             128\n",
            "              ReLU-6           [-1, 64, 56, 56]               0\n",
            "            Conv2d-7          [-1, 128, 56, 56]           8,192\n",
            "       BatchNorm2d-8          [-1, 128, 56, 56]             256\n",
            "              ReLU-9          [-1, 128, 56, 56]               0\n",
            "           Conv2d-10           [-1, 32, 56, 56]          36,864\n",
            "      BatchNorm2d-11           [-1, 96, 56, 56]             192\n",
            "             ReLU-12           [-1, 96, 56, 56]               0\n",
            "           Conv2d-13          [-1, 128, 56, 56]          12,288\n",
            "      BatchNorm2d-14          [-1, 128, 56, 56]             256\n",
            "             ReLU-15          [-1, 128, 56, 56]               0\n",
            "           Conv2d-16           [-1, 32, 56, 56]          36,864\n",
            "      BatchNorm2d-17          [-1, 128, 56, 56]             256\n",
            "             ReLU-18          [-1, 128, 56, 56]               0\n",
            "           Conv2d-19          [-1, 128, 56, 56]          16,384\n",
            "      BatchNorm2d-20          [-1, 128, 56, 56]             256\n",
            "             ReLU-21          [-1, 128, 56, 56]               0\n",
            "           Conv2d-22           [-1, 32, 56, 56]          36,864\n",
            "      BatchNorm2d-23          [-1, 160, 56, 56]             320\n",
            "             ReLU-24          [-1, 160, 56, 56]               0\n",
            "           Conv2d-25          [-1, 128, 56, 56]          20,480\n",
            "      BatchNorm2d-26          [-1, 128, 56, 56]             256\n",
            "             ReLU-27          [-1, 128, 56, 56]               0\n",
            "           Conv2d-28           [-1, 32, 56, 56]          36,864\n",
            "      BatchNorm2d-29          [-1, 192, 56, 56]             384\n",
            "             ReLU-30          [-1, 192, 56, 56]               0\n",
            "           Conv2d-31          [-1, 128, 56, 56]          24,576\n",
            "      BatchNorm2d-32          [-1, 128, 56, 56]             256\n",
            "             ReLU-33          [-1, 128, 56, 56]               0\n",
            "           Conv2d-34           [-1, 32, 56, 56]          36,864\n",
            "      BatchNorm2d-35          [-1, 224, 56, 56]             448\n",
            "             ReLU-36          [-1, 224, 56, 56]               0\n",
            "           Conv2d-37          [-1, 128, 56, 56]          28,672\n",
            "      BatchNorm2d-38          [-1, 128, 56, 56]             256\n",
            "             ReLU-39          [-1, 128, 56, 56]               0\n",
            "           Conv2d-40           [-1, 32, 56, 56]          36,864\n",
            "      BatchNorm2d-41          [-1, 256, 56, 56]             512\n",
            "             ReLU-42          [-1, 256, 56, 56]               0\n",
            "           Conv2d-43          [-1, 128, 56, 56]          32,768\n",
            "        AvgPool2d-44          [-1, 128, 28, 28]               0\n",
            "      BatchNorm2d-45          [-1, 128, 28, 28]             256\n",
            "             ReLU-46          [-1, 128, 28, 28]               0\n",
            "           Conv2d-47          [-1, 128, 28, 28]          16,384\n",
            "      BatchNorm2d-48          [-1, 128, 28, 28]             256\n",
            "             ReLU-49          [-1, 128, 28, 28]               0\n",
            "           Conv2d-50           [-1, 32, 28, 28]          36,864\n",
            "      BatchNorm2d-51          [-1, 160, 28, 28]             320\n",
            "             ReLU-52          [-1, 160, 28, 28]               0\n",
            "           Conv2d-53          [-1, 128, 28, 28]          20,480\n",
            "      BatchNorm2d-54          [-1, 128, 28, 28]             256\n",
            "             ReLU-55          [-1, 128, 28, 28]               0\n",
            "           Conv2d-56           [-1, 32, 28, 28]          36,864\n",
            "      BatchNorm2d-57          [-1, 192, 28, 28]             384\n",
            "             ReLU-58          [-1, 192, 28, 28]               0\n",
            "           Conv2d-59          [-1, 128, 28, 28]          24,576\n",
            "      BatchNorm2d-60          [-1, 128, 28, 28]             256\n",
            "             ReLU-61          [-1, 128, 28, 28]               0\n",
            "           Conv2d-62           [-1, 32, 28, 28]          36,864\n",
            "      BatchNorm2d-63          [-1, 224, 28, 28]             448\n",
            "             ReLU-64          [-1, 224, 28, 28]               0\n",
            "           Conv2d-65          [-1, 128, 28, 28]          28,672\n",
            "      BatchNorm2d-66          [-1, 128, 28, 28]             256\n",
            "             ReLU-67          [-1, 128, 28, 28]               0\n",
            "           Conv2d-68           [-1, 32, 28, 28]          36,864\n",
            "      BatchNorm2d-69          [-1, 256, 28, 28]             512\n",
            "             ReLU-70          [-1, 256, 28, 28]               0\n",
            "           Conv2d-71          [-1, 128, 28, 28]          32,768\n",
            "      BatchNorm2d-72          [-1, 128, 28, 28]             256\n",
            "             ReLU-73          [-1, 128, 28, 28]               0\n",
            "           Conv2d-74           [-1, 32, 28, 28]          36,864\n",
            "      BatchNorm2d-75          [-1, 288, 28, 28]             576\n",
            "             ReLU-76          [-1, 288, 28, 28]               0\n",
            "           Conv2d-77          [-1, 128, 28, 28]          36,864\n",
            "      BatchNorm2d-78          [-1, 128, 28, 28]             256\n",
            "             ReLU-79          [-1, 128, 28, 28]               0\n",
            "           Conv2d-80           [-1, 32, 28, 28]          36,864\n",
            "      BatchNorm2d-81          [-1, 320, 28, 28]             640\n",
            "             ReLU-82          [-1, 320, 28, 28]               0\n",
            "           Conv2d-83          [-1, 128, 28, 28]          40,960\n",
            "      BatchNorm2d-84          [-1, 128, 28, 28]             256\n",
            "             ReLU-85          [-1, 128, 28, 28]               0\n",
            "           Conv2d-86           [-1, 32, 28, 28]          36,864\n",
            "      BatchNorm2d-87          [-1, 352, 28, 28]             704\n",
            "             ReLU-88          [-1, 352, 28, 28]               0\n",
            "           Conv2d-89          [-1, 128, 28, 28]          45,056\n",
            "      BatchNorm2d-90          [-1, 128, 28, 28]             256\n",
            "             ReLU-91          [-1, 128, 28, 28]               0\n",
            "           Conv2d-92           [-1, 32, 28, 28]          36,864\n",
            "      BatchNorm2d-93          [-1, 384, 28, 28]             768\n",
            "             ReLU-94          [-1, 384, 28, 28]               0\n",
            "           Conv2d-95          [-1, 128, 28, 28]          49,152\n",
            "      BatchNorm2d-96          [-1, 128, 28, 28]             256\n",
            "             ReLU-97          [-1, 128, 28, 28]               0\n",
            "           Conv2d-98           [-1, 32, 28, 28]          36,864\n",
            "      BatchNorm2d-99          [-1, 416, 28, 28]             832\n",
            "            ReLU-100          [-1, 416, 28, 28]               0\n",
            "          Conv2d-101          [-1, 128, 28, 28]          53,248\n",
            "     BatchNorm2d-102          [-1, 128, 28, 28]             256\n",
            "            ReLU-103          [-1, 128, 28, 28]               0\n",
            "          Conv2d-104           [-1, 32, 28, 28]          36,864\n",
            "     BatchNorm2d-105          [-1, 448, 28, 28]             896\n",
            "            ReLU-106          [-1, 448, 28, 28]               0\n",
            "          Conv2d-107          [-1, 128, 28, 28]          57,344\n",
            "     BatchNorm2d-108          [-1, 128, 28, 28]             256\n",
            "            ReLU-109          [-1, 128, 28, 28]               0\n",
            "          Conv2d-110           [-1, 32, 28, 28]          36,864\n",
            "     BatchNorm2d-111          [-1, 480, 28, 28]             960\n",
            "            ReLU-112          [-1, 480, 28, 28]               0\n",
            "          Conv2d-113          [-1, 128, 28, 28]          61,440\n",
            "     BatchNorm2d-114          [-1, 128, 28, 28]             256\n",
            "            ReLU-115          [-1, 128, 28, 28]               0\n",
            "          Conv2d-116           [-1, 32, 28, 28]          36,864\n",
            "     BatchNorm2d-117          [-1, 512, 28, 28]           1,024\n",
            "            ReLU-118          [-1, 512, 28, 28]               0\n",
            "          Conv2d-119          [-1, 256, 28, 28]         131,072\n",
            "       AvgPool2d-120          [-1, 256, 14, 14]               0\n",
            "     BatchNorm2d-121          [-1, 256, 14, 14]             512\n",
            "            ReLU-122          [-1, 256, 14, 14]               0\n",
            "          Conv2d-123          [-1, 128, 14, 14]          32,768\n",
            "     BatchNorm2d-124          [-1, 128, 14, 14]             256\n",
            "            ReLU-125          [-1, 128, 14, 14]               0\n",
            "          Conv2d-126           [-1, 32, 14, 14]          36,864\n",
            "     BatchNorm2d-127          [-1, 288, 14, 14]             576\n",
            "            ReLU-128          [-1, 288, 14, 14]               0\n",
            "          Conv2d-129          [-1, 128, 14, 14]          36,864\n",
            "     BatchNorm2d-130          [-1, 128, 14, 14]             256\n",
            "            ReLU-131          [-1, 128, 14, 14]               0\n",
            "          Conv2d-132           [-1, 32, 14, 14]          36,864\n",
            "     BatchNorm2d-133          [-1, 320, 14, 14]             640\n",
            "            ReLU-134          [-1, 320, 14, 14]               0\n",
            "          Conv2d-135          [-1, 128, 14, 14]          40,960\n",
            "     BatchNorm2d-136          [-1, 128, 14, 14]             256\n",
            "            ReLU-137          [-1, 128, 14, 14]               0\n",
            "          Conv2d-138           [-1, 32, 14, 14]          36,864\n",
            "     BatchNorm2d-139          [-1, 352, 14, 14]             704\n",
            "            ReLU-140          [-1, 352, 14, 14]               0\n",
            "          Conv2d-141          [-1, 128, 14, 14]          45,056\n",
            "     BatchNorm2d-142          [-1, 128, 14, 14]             256\n",
            "            ReLU-143          [-1, 128, 14, 14]               0\n",
            "          Conv2d-144           [-1, 32, 14, 14]          36,864\n",
            "     BatchNorm2d-145          [-1, 384, 14, 14]             768\n",
            "            ReLU-146          [-1, 384, 14, 14]               0\n",
            "          Conv2d-147          [-1, 128, 14, 14]          49,152\n",
            "     BatchNorm2d-148          [-1, 128, 14, 14]             256\n",
            "            ReLU-149          [-1, 128, 14, 14]               0\n",
            "          Conv2d-150           [-1, 32, 14, 14]          36,864\n",
            "     BatchNorm2d-151          [-1, 416, 14, 14]             832\n",
            "            ReLU-152          [-1, 416, 14, 14]               0\n",
            "          Conv2d-153          [-1, 128, 14, 14]          53,248\n",
            "     BatchNorm2d-154          [-1, 128, 14, 14]             256\n",
            "            ReLU-155          [-1, 128, 14, 14]               0\n",
            "          Conv2d-156           [-1, 32, 14, 14]          36,864\n",
            "     BatchNorm2d-157          [-1, 448, 14, 14]             896\n",
            "            ReLU-158          [-1, 448, 14, 14]               0\n",
            "          Conv2d-159          [-1, 128, 14, 14]          57,344\n",
            "     BatchNorm2d-160          [-1, 128, 14, 14]             256\n",
            "            ReLU-161          [-1, 128, 14, 14]               0\n",
            "          Conv2d-162           [-1, 32, 14, 14]          36,864\n",
            "     BatchNorm2d-163          [-1, 480, 14, 14]             960\n",
            "            ReLU-164          [-1, 480, 14, 14]               0\n",
            "          Conv2d-165          [-1, 128, 14, 14]          61,440\n",
            "     BatchNorm2d-166          [-1, 128, 14, 14]             256\n",
            "            ReLU-167          [-1, 128, 14, 14]               0\n",
            "          Conv2d-168           [-1, 32, 14, 14]          36,864\n",
            "     BatchNorm2d-169          [-1, 512, 14, 14]           1,024\n",
            "            ReLU-170          [-1, 512, 14, 14]               0\n",
            "          Conv2d-171          [-1, 128, 14, 14]          65,536\n",
            "     BatchNorm2d-172          [-1, 128, 14, 14]             256\n",
            "            ReLU-173          [-1, 128, 14, 14]               0\n",
            "          Conv2d-174           [-1, 32, 14, 14]          36,864\n",
            "     BatchNorm2d-175          [-1, 544, 14, 14]           1,088\n",
            "            ReLU-176          [-1, 544, 14, 14]               0\n",
            "          Conv2d-177          [-1, 128, 14, 14]          69,632\n",
            "     BatchNorm2d-178          [-1, 128, 14, 14]             256\n",
            "            ReLU-179          [-1, 128, 14, 14]               0\n",
            "          Conv2d-180           [-1, 32, 14, 14]          36,864\n",
            "     BatchNorm2d-181          [-1, 576, 14, 14]           1,152\n",
            "            ReLU-182          [-1, 576, 14, 14]               0\n",
            "          Conv2d-183          [-1, 128, 14, 14]          73,728\n",
            "     BatchNorm2d-184          [-1, 128, 14, 14]             256\n",
            "            ReLU-185          [-1, 128, 14, 14]               0\n",
            "          Conv2d-186           [-1, 32, 14, 14]          36,864\n",
            "     BatchNorm2d-187          [-1, 608, 14, 14]           1,216\n",
            "            ReLU-188          [-1, 608, 14, 14]               0\n",
            "          Conv2d-189          [-1, 128, 14, 14]          77,824\n",
            "     BatchNorm2d-190          [-1, 128, 14, 14]             256\n",
            "            ReLU-191          [-1, 128, 14, 14]               0\n",
            "          Conv2d-192           [-1, 32, 14, 14]          36,864\n",
            "     BatchNorm2d-193          [-1, 640, 14, 14]           1,280\n",
            "            ReLU-194          [-1, 640, 14, 14]               0\n",
            "          Conv2d-195          [-1, 128, 14, 14]          81,920\n",
            "     BatchNorm2d-196          [-1, 128, 14, 14]             256\n",
            "            ReLU-197          [-1, 128, 14, 14]               0\n",
            "          Conv2d-198           [-1, 32, 14, 14]          36,864\n",
            "     BatchNorm2d-199          [-1, 672, 14, 14]           1,344\n",
            "            ReLU-200          [-1, 672, 14, 14]               0\n",
            "          Conv2d-201          [-1, 128, 14, 14]          86,016\n",
            "     BatchNorm2d-202          [-1, 128, 14, 14]             256\n",
            "            ReLU-203          [-1, 128, 14, 14]               0\n",
            "          Conv2d-204           [-1, 32, 14, 14]          36,864\n",
            "     BatchNorm2d-205          [-1, 704, 14, 14]           1,408\n",
            "            ReLU-206          [-1, 704, 14, 14]               0\n",
            "          Conv2d-207          [-1, 128, 14, 14]          90,112\n",
            "     BatchNorm2d-208          [-1, 128, 14, 14]             256\n",
            "            ReLU-209          [-1, 128, 14, 14]               0\n",
            "          Conv2d-210           [-1, 32, 14, 14]          36,864\n",
            "     BatchNorm2d-211          [-1, 736, 14, 14]           1,472\n",
            "            ReLU-212          [-1, 736, 14, 14]               0\n",
            "          Conv2d-213          [-1, 128, 14, 14]          94,208\n",
            "     BatchNorm2d-214          [-1, 128, 14, 14]             256\n",
            "            ReLU-215          [-1, 128, 14, 14]               0\n",
            "          Conv2d-216           [-1, 32, 14, 14]          36,864\n",
            "     BatchNorm2d-217          [-1, 768, 14, 14]           1,536\n",
            "            ReLU-218          [-1, 768, 14, 14]               0\n",
            "          Conv2d-219          [-1, 128, 14, 14]          98,304\n",
            "     BatchNorm2d-220          [-1, 128, 14, 14]             256\n",
            "            ReLU-221          [-1, 128, 14, 14]               0\n",
            "          Conv2d-222           [-1, 32, 14, 14]          36,864\n",
            "     BatchNorm2d-223          [-1, 800, 14, 14]           1,600\n",
            "            ReLU-224          [-1, 800, 14, 14]               0\n",
            "          Conv2d-225          [-1, 128, 14, 14]         102,400\n",
            "     BatchNorm2d-226          [-1, 128, 14, 14]             256\n",
            "            ReLU-227          [-1, 128, 14, 14]               0\n",
            "          Conv2d-228           [-1, 32, 14, 14]          36,864\n",
            "     BatchNorm2d-229          [-1, 832, 14, 14]           1,664\n",
            "            ReLU-230          [-1, 832, 14, 14]               0\n",
            "          Conv2d-231          [-1, 128, 14, 14]         106,496\n",
            "     BatchNorm2d-232          [-1, 128, 14, 14]             256\n",
            "            ReLU-233          [-1, 128, 14, 14]               0\n",
            "          Conv2d-234           [-1, 32, 14, 14]          36,864\n",
            "     BatchNorm2d-235          [-1, 864, 14, 14]           1,728\n",
            "            ReLU-236          [-1, 864, 14, 14]               0\n",
            "          Conv2d-237          [-1, 128, 14, 14]         110,592\n",
            "     BatchNorm2d-238          [-1, 128, 14, 14]             256\n",
            "            ReLU-239          [-1, 128, 14, 14]               0\n",
            "          Conv2d-240           [-1, 32, 14, 14]          36,864\n",
            "     BatchNorm2d-241          [-1, 896, 14, 14]           1,792\n",
            "            ReLU-242          [-1, 896, 14, 14]               0\n",
            "          Conv2d-243          [-1, 128, 14, 14]         114,688\n",
            "     BatchNorm2d-244          [-1, 128, 14, 14]             256\n",
            "            ReLU-245          [-1, 128, 14, 14]               0\n",
            "          Conv2d-246           [-1, 32, 14, 14]          36,864\n",
            "     BatchNorm2d-247          [-1, 928, 14, 14]           1,856\n",
            "            ReLU-248          [-1, 928, 14, 14]               0\n",
            "          Conv2d-249          [-1, 128, 14, 14]         118,784\n",
            "     BatchNorm2d-250          [-1, 128, 14, 14]             256\n",
            "            ReLU-251          [-1, 128, 14, 14]               0\n",
            "          Conv2d-252           [-1, 32, 14, 14]          36,864\n",
            "     BatchNorm2d-253          [-1, 960, 14, 14]           1,920\n",
            "            ReLU-254          [-1, 960, 14, 14]               0\n",
            "          Conv2d-255          [-1, 128, 14, 14]         122,880\n",
            "     BatchNorm2d-256          [-1, 128, 14, 14]             256\n",
            "            ReLU-257          [-1, 128, 14, 14]               0\n",
            "          Conv2d-258           [-1, 32, 14, 14]          36,864\n",
            "     BatchNorm2d-259          [-1, 992, 14, 14]           1,984\n",
            "            ReLU-260          [-1, 992, 14, 14]               0\n",
            "          Conv2d-261          [-1, 128, 14, 14]         126,976\n",
            "     BatchNorm2d-262          [-1, 128, 14, 14]             256\n",
            "            ReLU-263          [-1, 128, 14, 14]               0\n",
            "          Conv2d-264           [-1, 32, 14, 14]          36,864\n",
            "     BatchNorm2d-265         [-1, 1024, 14, 14]           2,048\n",
            "            ReLU-266         [-1, 1024, 14, 14]               0\n",
            "          Conv2d-267          [-1, 512, 14, 14]         524,288\n",
            "       AvgPool2d-268            [-1, 512, 7, 7]               0\n",
            "     BatchNorm2d-269            [-1, 512, 7, 7]           1,024\n",
            "            ReLU-270            [-1, 512, 7, 7]               0\n",
            "          Conv2d-271            [-1, 128, 7, 7]          65,536\n",
            "     BatchNorm2d-272            [-1, 128, 7, 7]             256\n",
            "            ReLU-273            [-1, 128, 7, 7]               0\n",
            "          Conv2d-274             [-1, 32, 7, 7]          36,864\n",
            "     BatchNorm2d-275            [-1, 544, 7, 7]           1,088\n",
            "            ReLU-276            [-1, 544, 7, 7]               0\n",
            "          Conv2d-277            [-1, 128, 7, 7]          69,632\n",
            "     BatchNorm2d-278            [-1, 128, 7, 7]             256\n",
            "            ReLU-279            [-1, 128, 7, 7]               0\n",
            "          Conv2d-280             [-1, 32, 7, 7]          36,864\n",
            "     BatchNorm2d-281            [-1, 576, 7, 7]           1,152\n",
            "            ReLU-282            [-1, 576, 7, 7]               0\n",
            "          Conv2d-283            [-1, 128, 7, 7]          73,728\n",
            "     BatchNorm2d-284            [-1, 128, 7, 7]             256\n",
            "            ReLU-285            [-1, 128, 7, 7]               0\n",
            "          Conv2d-286             [-1, 32, 7, 7]          36,864\n",
            "     BatchNorm2d-287            [-1, 608, 7, 7]           1,216\n",
            "            ReLU-288            [-1, 608, 7, 7]               0\n",
            "          Conv2d-289            [-1, 128, 7, 7]          77,824\n",
            "     BatchNorm2d-290            [-1, 128, 7, 7]             256\n",
            "            ReLU-291            [-1, 128, 7, 7]               0\n",
            "          Conv2d-292             [-1, 32, 7, 7]          36,864\n",
            "     BatchNorm2d-293            [-1, 640, 7, 7]           1,280\n",
            "            ReLU-294            [-1, 640, 7, 7]               0\n",
            "          Conv2d-295            [-1, 128, 7, 7]          81,920\n",
            "     BatchNorm2d-296            [-1, 128, 7, 7]             256\n",
            "            ReLU-297            [-1, 128, 7, 7]               0\n",
            "          Conv2d-298             [-1, 32, 7, 7]          36,864\n",
            "     BatchNorm2d-299            [-1, 672, 7, 7]           1,344\n",
            "            ReLU-300            [-1, 672, 7, 7]               0\n",
            "          Conv2d-301            [-1, 128, 7, 7]          86,016\n",
            "     BatchNorm2d-302            [-1, 128, 7, 7]             256\n",
            "            ReLU-303            [-1, 128, 7, 7]               0\n",
            "          Conv2d-304             [-1, 32, 7, 7]          36,864\n",
            "     BatchNorm2d-305            [-1, 704, 7, 7]           1,408\n",
            "            ReLU-306            [-1, 704, 7, 7]               0\n",
            "          Conv2d-307            [-1, 128, 7, 7]          90,112\n",
            "     BatchNorm2d-308            [-1, 128, 7, 7]             256\n",
            "            ReLU-309            [-1, 128, 7, 7]               0\n",
            "          Conv2d-310             [-1, 32, 7, 7]          36,864\n",
            "     BatchNorm2d-311            [-1, 736, 7, 7]           1,472\n",
            "            ReLU-312            [-1, 736, 7, 7]               0\n",
            "          Conv2d-313            [-1, 128, 7, 7]          94,208\n",
            "     BatchNorm2d-314            [-1, 128, 7, 7]             256\n",
            "            ReLU-315            [-1, 128, 7, 7]               0\n",
            "          Conv2d-316             [-1, 32, 7, 7]          36,864\n",
            "     BatchNorm2d-317            [-1, 768, 7, 7]           1,536\n",
            "            ReLU-318            [-1, 768, 7, 7]               0\n",
            "          Conv2d-319            [-1, 128, 7, 7]          98,304\n",
            "     BatchNorm2d-320            [-1, 128, 7, 7]             256\n",
            "            ReLU-321            [-1, 128, 7, 7]               0\n",
            "          Conv2d-322             [-1, 32, 7, 7]          36,864\n",
            "     BatchNorm2d-323            [-1, 800, 7, 7]           1,600\n",
            "            ReLU-324            [-1, 800, 7, 7]               0\n",
            "          Conv2d-325            [-1, 128, 7, 7]         102,400\n",
            "     BatchNorm2d-326            [-1, 128, 7, 7]             256\n",
            "            ReLU-327            [-1, 128, 7, 7]               0\n",
            "          Conv2d-328             [-1, 32, 7, 7]          36,864\n",
            "     BatchNorm2d-329            [-1, 832, 7, 7]           1,664\n",
            "            ReLU-330            [-1, 832, 7, 7]               0\n",
            "          Conv2d-331            [-1, 128, 7, 7]         106,496\n",
            "     BatchNorm2d-332            [-1, 128, 7, 7]             256\n",
            "            ReLU-333            [-1, 128, 7, 7]               0\n",
            "          Conv2d-334             [-1, 32, 7, 7]          36,864\n",
            "     BatchNorm2d-335            [-1, 864, 7, 7]           1,728\n",
            "            ReLU-336            [-1, 864, 7, 7]               0\n",
            "          Conv2d-337            [-1, 128, 7, 7]         110,592\n",
            "     BatchNorm2d-338            [-1, 128, 7, 7]             256\n",
            "            ReLU-339            [-1, 128, 7, 7]               0\n",
            "          Conv2d-340             [-1, 32, 7, 7]          36,864\n",
            "     BatchNorm2d-341            [-1, 896, 7, 7]           1,792\n",
            "            ReLU-342            [-1, 896, 7, 7]               0\n",
            "          Conv2d-343            [-1, 128, 7, 7]         114,688\n",
            "     BatchNorm2d-344            [-1, 128, 7, 7]             256\n",
            "            ReLU-345            [-1, 128, 7, 7]               0\n",
            "          Conv2d-346             [-1, 32, 7, 7]          36,864\n",
            "     BatchNorm2d-347            [-1, 928, 7, 7]           1,856\n",
            "            ReLU-348            [-1, 928, 7, 7]               0\n",
            "          Conv2d-349            [-1, 128, 7, 7]         118,784\n",
            "     BatchNorm2d-350            [-1, 128, 7, 7]             256\n",
            "            ReLU-351            [-1, 128, 7, 7]               0\n",
            "          Conv2d-352             [-1, 32, 7, 7]          36,864\n",
            "     BatchNorm2d-353            [-1, 960, 7, 7]           1,920\n",
            "            ReLU-354            [-1, 960, 7, 7]               0\n",
            "          Conv2d-355            [-1, 128, 7, 7]         122,880\n",
            "     BatchNorm2d-356            [-1, 128, 7, 7]             256\n",
            "            ReLU-357            [-1, 128, 7, 7]               0\n",
            "          Conv2d-358             [-1, 32, 7, 7]          36,864\n",
            "     BatchNorm2d-359            [-1, 992, 7, 7]           1,984\n",
            "            ReLU-360            [-1, 992, 7, 7]               0\n",
            "          Conv2d-361            [-1, 128, 7, 7]         126,976\n",
            "     BatchNorm2d-362            [-1, 128, 7, 7]             256\n",
            "            ReLU-363            [-1, 128, 7, 7]               0\n",
            "          Conv2d-364             [-1, 32, 7, 7]          36,864\n",
            "     BatchNorm2d-365           [-1, 1024, 7, 7]           2,048\n",
            "          Linear-366                    [-1, 1]           1,025\n",
            "================================================================\n",
            "Total params: 6,948,609\n",
            "Trainable params: 1,025\n",
            "Non-trainable params: 6,947,584\n",
            "----------------------------------------------------------------\n",
            "Input size (MB): 0.19\n",
            "Forward/backward pass size (MB): 294.19\n",
            "Params size (MB): 26.51\n",
            "Estimated Total Size (MB): 320.89\n",
            "----------------------------------------------------------------\n"
          ],
          "name": "stdout"
        }
      ]
    },
    {
      "cell_type": "markdown",
      "metadata": {
        "id": "tNrOGtI65GV8"
      },
      "source": [
        "\n",
        "### Versions Tried!\n",
        "\n",
        "- V1:\n",
        "    - V1_1: 512-256-128-64-1\n",
        "    - V1_2: 512-256-128-1\n",
        "    - V1_3: 512-256-1\n",
        "    - V1_4: 512-128-32-1\n",
        "    - V1_5: 512-128-1\n",
        "    - V1_6: 512-1\n",
        "    - Which is the best: StepLR, ExpLR?\n",
        "- V2:\n",
        "    - [ ]  256-128-64-32-1\n",
        "    - [ ]  256-128-64-1\n",
        "    - [ ]  256 - 64 - 2\n",
        "    - [ ]  256-128-1\n",
        "    - [ ]  256-1\n",
        "    - \n",
        "- V3:\n",
        "    - [ ]  128 - 64 - 32 - 1\n",
        "    - [ ]  128 - 32 - 1\n",
        "    - [ ]  128 - 64 - 1\n",
        "    - [ ]  128 - 1\n",
        "    -\n",
        "\n"
      ]
    },
    {
      "cell_type": "markdown",
      "metadata": {
        "id": "6j_H1alL4Uwn"
      },
      "source": [
        "## Training Function\n"
      ]
    },
    {
      "cell_type": "code",
      "metadata": {
        "id": "6CyVeVz1jwMq"
      },
      "source": [
        "## To do: Training Script!\n",
        "def train_model(model, criterion, optimizer, scheduler, dataloaders, numEpochs):\n",
        "  \"\"\" Simple Train Function for PyTorch Model. Adapted from PyTorch tutorials \"\"\"\n",
        "  start_time = time.time()\n",
        "\n",
        "  best_WandB = copy.deepcopy(model.state_dict())\n",
        "  best_loss = np.inf \n",
        "  train_hist = {}\n",
        "  val_hist = {}\n",
        "  ## For all the epochs:\n",
        "  for epoch in tqdm(range(numEpochs)):\n",
        "    epoch_loss = 0.0\n",
        "    start_epoch = time.time()\n",
        "    if epoch % 50 == 0:\n",
        "      print(\"Epoch {}/{}\".format(epoch + 1, numEpochs))\n",
        "      print(\"*\"*10)\n",
        "\n",
        "    ## For each phase: train vs val\n",
        "    for phase in ['train', 'val']:\n",
        "      if phase == 'train':\n",
        "        model.train()\n",
        "      else:\n",
        "        model.eval()\n",
        "\n",
        "      ## Tracking loss\n",
        "      epoch_loss = 0.0\n",
        "\n",
        "      ## For all phase data:\n",
        "      for imgs, values in dataloaders[phase]:\n",
        "        imgs = imgs.to(device)\n",
        "        values = values.to(device)\n",
        "\n",
        "        ## Zero the gradients\n",
        "        optimizer.zero_grad()\n",
        "        outputs = model(imgs)\n",
        "        loss = criterion(outputs, values)\n",
        "        ## Epoch Stats\n",
        "        epoch_loss += loss.item() * img.size(0)\n",
        "\n",
        "        ## Forward Prop\n",
        "        with torch.set_grad_enabled(phase == 'train'):\n",
        "          ## Backward Prop\n",
        "          if phase == 'train':\n",
        "            loss.backward()\n",
        "            optimizer.step()\n",
        "\n",
        "        \n",
        "\n",
        "      epoch_loss = epoch_loss / data_sizes[phase]\n",
        "      scheduler.step(epoch_loss)\n",
        "      if phase == 'train':\n",
        "        train_hist[epoch] = epoch_loss\n",
        "      else:\n",
        "        val_hist[epoch] = epoch_loss\n",
        "\n",
        "      if epoch % 50 == 0:\n",
        "        print(\"{}\\tLoss: {:.4f}\\tTime: {:.4f}\".format(phase, epoch_loss, time.time() - start_epoch))\n",
        "      ## Check for loss: ## We don't check for validation loss\n",
        "      ## Need to write a function for rmse \n",
        "\n",
        "\n",
        "      if phase == 'val' and best_loss > epoch_loss:\n",
        "        best_loss = epoch_loss\n",
        "        best_WandB = copy.deepcopy(model.state_dict())\n",
        "        torch.save({\n",
        "            'epoch': epoch,\n",
        "            'loss': epoch_loss,\n",
        "            'model_state': model.state_dict(),\n",
        "            'optimizer_state_dict': optimizer.state_dict()\n",
        "        }, os.path.join(MODEL_PATH, MODEL_NAME))\n",
        "        print()\n",
        "        print(\"Epoch: \", epoch)\n",
        "        print(\"====> New Best Model!: {}\".format(MODEL_NAME))\n",
        "        print(\"Epoch Loss: {:.4f}\".format(epoch_loss))\n",
        "        print()\n",
        "        print(\"*\"*10)\n",
        "\n",
        "  ## Loading best model\n",
        "  print(\"Best MSE: {:.4f}\".format(best_loss))\n",
        "  print(\"Total Time: {:.4f}\".format(time.time() - start_time)) \n",
        "  \n",
        "  model.load_state_dict(best_WandB)\n",
        "  return model, train_hist, val_hist\n",
        "\n",
        "\n"
      ],
      "execution_count": null,
      "outputs": []
    },
    {
      "cell_type": "markdown",
      "metadata": {
        "id": "NKiNcgg5wCOZ"
      },
      "source": [
        "## Training\n"
      ]
    },
    {
      "cell_type": "markdown",
      "metadata": {
        "id": "konhCRAGCU0f"
      },
      "source": [
        ""
      ]
    },
    {
      "cell_type": "code",
      "metadata": {
        "id": "gSB5_hoow_FO"
      },
      "source": [
        "# MODEL_NAME = \"COVID_COHEN_V3_3_StepLR_RS_trial1.pth\"\n",
        "# MODEL_PATH = \"/content/drive/MyDrive/Models\""
      ],
      "execution_count": null,
      "outputs": []
    },
    {
      "cell_type": "code",
      "metadata": {
        "id": "J2-6H6dKwGf8"
      },
      "source": [
        "MODEL_NAME = \"_\".join((\"BRIXIA_GlobalScore_RS\"+str(RANDOM_STATE),\"E\"+str(EPOCHS),\"OverfitCheck_v3\"))\n",
        "FLAG = 0\n",
        "criterion = nn.MSELoss()\n",
        "optimizer = optim.Adam(model_brixia.parameters(), lr = LEARNING_RATE)\n",
        "device = torch.device(\"cuda:0\" if torch.cuda.is_available() else \"cpu\")\n",
        "if FLAG ==  0:\n",
        "  lr_scheduler = optim.lr_scheduler.StepLR(optimizer, gamma = 0.1, step_size = 10)\n",
        "elif FLAG == 1:\n",
        "    lr_scheduler = optim.lr_scheduler.ExponentialLR(optimizer, gamma = 0.1)\n",
        "else:\n",
        "    lr_scheduler = optim.lr_scheduler.CosineAnnealingLR(optimizer, len(train_dl), eta_min=0.0)\n"
      ],
      "execution_count": null,
      "outputs": []
    },
    {
      "cell_type": "code",
      "metadata": {
        "colab": {
          "base_uri": "https://localhost:8080/",
          "height": 1000,
          "referenced_widgets": [
            "d2f8fd9a57e840278f8e2de9aead1af1",
            "b970e144d6834517999e94344463792b",
            "d824a5743e2d4160a0fd8e9f1e322b3d",
            "cead2042f58f4e28adf395ab0dd655d8",
            "48a095af24704b10a1d3a6ea7d7d90b9",
            "bc4596918bd6462eb3afe5d642695df4",
            "d70169ee114b41b5aafb8edb6adb1c4c",
            "ddf9203a68dd4a638023174965a733cc"
          ]
        },
        "id": "AWDzV_XtAmUm",
        "outputId": "7d862923-4ef7-48ed-de20-f65989aafa9b"
      },
      "source": [
        "## TODO: Tensorboard Visualization!\n",
        "model_brixia.to(device)\n",
        "model_brixia, train_hist, val_hist = train_model(model_brixia, criterion, optimizer, lr_scheduler, dataloaders, 150)"
      ],
      "execution_count": null,
      "outputs": [
        {
          "output_type": "display_data",
          "data": {
            "application/vnd.jupyter.widget-view+json": {
              "model_id": "d2f8fd9a57e840278f8e2de9aead1af1",
              "version_minor": 0,
              "version_major": 2
            },
            "text/plain": [
              "HBox(children=(FloatProgress(value=0.0, max=150.0), HTML(value='')))"
            ]
          },
          "metadata": {
            "tags": []
          }
        },
        {
          "output_type": "stream",
          "text": [
            "Epoch 1/150\n",
            "**********\n",
            "train\tLoss: 1.9040\tTime: 0.5380\n",
            "val\tLoss: 4.1279\tTime: 0.5687\n",
            "\n",
            "Epoch:  0\n",
            "====> New Best Model!: BRIXIA_GlobalScore_RS0_E150_OverfitCheck_v3\n",
            "Epoch Loss: 4.1279\n",
            "\n",
            "**********\n",
            "\n",
            "Epoch:  1\n",
            "====> New Best Model!: BRIXIA_GlobalScore_RS0_E150_OverfitCheck_v3\n",
            "Epoch Loss: 2.1935\n",
            "\n",
            "**********\n",
            "\n",
            "Epoch:  2\n",
            "====> New Best Model!: BRIXIA_GlobalScore_RS0_E150_OverfitCheck_v3\n",
            "Epoch Loss: 1.8752\n",
            "\n",
            "**********\n",
            "\n",
            "Epoch:  7\n",
            "====> New Best Model!: BRIXIA_GlobalScore_RS0_E150_OverfitCheck_v3\n",
            "Epoch Loss: 1.8174\n",
            "\n",
            "**********\n",
            "\n",
            "Epoch:  9\n",
            "====> New Best Model!: BRIXIA_GlobalScore_RS0_E150_OverfitCheck_v3\n",
            "Epoch Loss: 1.8110\n",
            "\n",
            "**********\n",
            "\n",
            "Epoch:  13\n",
            "====> New Best Model!: BRIXIA_GlobalScore_RS0_E150_OverfitCheck_v3\n",
            "Epoch Loss: 1.7433\n",
            "\n",
            "**********\n",
            "\n",
            "Epoch:  38\n",
            "====> New Best Model!: BRIXIA_GlobalScore_RS0_E150_OverfitCheck_v3\n",
            "Epoch Loss: 1.7200\n",
            "\n",
            "**********\n",
            "Epoch 51/150\n",
            "**********\n",
            "train\tLoss: 0.6241\tTime: 0.5204\n",
            "val\tLoss: 1.8701\tTime: 0.5507\n",
            "Epoch 101/150\n",
            "**********\n",
            "train\tLoss: 0.6407\tTime: 0.5254\n",
            "val\tLoss: 1.7685\tTime: 0.5562\n",
            "\n",
            "Best MSE: 1.7200\n",
            "Total Time: 84.2810\n"
          ],
          "name": "stdout"
        }
      ]
    },
    {
      "cell_type": "code",
      "metadata": {
        "id": "8T3Fbdaay7wE"
      },
      "source": [
        "# os.path.join(MODEL_PATH, MODEL_NAME+str(EPOCHS)+\".pth\")"
      ],
      "execution_count": null,
      "outputs": []
    },
    {
      "cell_type": "code",
      "metadata": {
        "colab": {
          "base_uri": "https://localhost:8080/",
          "height": 461
        },
        "id": "7MSmJvp0Al2p",
        "outputId": "6fdef141-b2a2-4afc-92b5-7fc280f2a140"
      },
      "source": [
        "plt.figure(figsize = (10,7))\n",
        "lists = sorted(train_hist.items())\n",
        "train_epoch, train_loss = zip(*lists[1:])\n",
        "lists = sorted(val_hist.items())\n",
        "val_epoch, val_loss = zip(*lists[1:])\n",
        "plt.plot(train_epoch, train_loss, label = 'Train')\n",
        "plt.plot(val_epoch, val_loss, label = 'Validation')\n",
        "plt.title(MODEL_NAME+\"_4 Layers - Cosine LR:\"+str(LEARNING_RATE))\n",
        "plt.legend()"
      ],
      "execution_count": null,
      "outputs": [
        {
          "output_type": "execute_result",
          "data": {
            "text/plain": [
              "<matplotlib.legend.Legend at 0x7f8f380d51d0>"
            ]
          },
          "metadata": {
            "tags": []
          },
          "execution_count": 202
        },
        {
          "output_type": "display_data",
          "data": {
            "image/png": "[encoded data removed]",
            "text/plain": [
              "<Figure size 720x504 with 1 Axes>"
            ]
          },
          "metadata": {
            "tags": [],
            "needs_background": "light"
          }
        }
      ]
    },
    {
      "cell_type": "code",
      "metadata": {
        "id": "04AFVKtHGNxZ"
      },
      "source": [
        "def eval_model(model, criterion, eval_loader):\n",
        "  \"\"\" Simple Train Function for PyTorch Model. Adapted from PyTorch tutorials \"\"\"\n",
        "  start_time = time.time()\n",
        "  loss_hist = {}\n",
        "  model.eval()\n",
        "\n",
        "  ## Tracking loss\n",
        "  eval_loss = 0.0\n",
        "  ## For Evaluation Data:\n",
        "  for imgs, values in eval_loader:\n",
        "      imgs = imgs.to(device)\n",
        "      values = values.to(device)\n",
        "\n",
        "      ## Zero the gradients\n",
        "      optimizer.zero_grad()\n",
        "      outputs = model(imgs)\n",
        "      loss = criterion(outputs, values)\n",
        "      eval_loss += loss.item() * img.size(0)\n",
        "    \n",
        "  eval_loss = eval_loss / len(eval_loader.dataset)\n",
        "  print(\"Loss: {:.4f}\\tTime: {:.4f}\".format(eval_loss, time.time() - start_time))\n",
        "  return eval_loss\n",
        "\n",
        "\n"
      ],
      "execution_count": null,
      "outputs": []
    },
    {
      "cell_type": "code",
      "metadata": {
        "colab": {
          "base_uri": "https://localhost:8080/"
        },
        "id": "RsOkxLpiiqi1",
        "outputId": "e0b2b5e9-0ca0-4f17-bba9-5daeb48b16a9"
      },
      "source": [
        "## Testing:\n",
        "print(\"Train: \")\n",
        "train_loss = eval_model(model_brixia, criterion, train_dl)\n",
        "print(\"Val: \")\n",
        "val_loss = eval_model(model_brixia, criterion, val_dl)\n",
        "print(\"Test: \")\n",
        "test_out = eval_model(model_brixia, criterion, test_dl)"
      ],
      "execution_count": null,
      "outputs": [
        {
          "output_type": "stream",
          "text": [
            "Train: \n",
            "Loss: 0.6230\tTime: 0.4961\n",
            "Val: \n",
            "Loss: 1.7200\tTime: 0.0308\n",
            "Test: \n",
            "Loss: 1.0115\tTime: 0.0347\n"
          ],
          "name": "stdout"
        }
      ]
    },
    {
      "cell_type": "code",
      "metadata": {
        "id": "36x5A2kY4gsh"
      },
      "source": [
        "img, values = next(iter(test_dl))\n",
        "img = img.to(device)\n",
        "values = values.to(device)\n",
        "outputs = model_brixia(img)\n",
        "y_pred = outputs.to('cpu').detach().numpy()"
      ],
      "execution_count": null,
      "outputs": []
    },
    {
      "cell_type": "code",
      "metadata": {
        "id": "1KA2nSlG4vWa"
      },
      "source": [
        "y_true = values.to('cpu').numpy()"
      ],
      "execution_count": null,
      "outputs": []
    },
    {
      "cell_type": "code",
      "metadata": {
        "colab": {
          "base_uri": "https://localhost:8080/"
        },
        "id": "lgunfjWVCLL5",
        "outputId": "f3a4fb89-6b8d-45e9-f2a9-85b6879beede"
      },
      "source": [
        "y_pred"
      ],
      "execution_count": null,
      "outputs": [
        {
          "output_type": "execute_result",
          "data": {
            "text/plain": [
              "array([[8.42884  ],\n",
              "       [8.145368 ],\n",
              "       [8.732768 ],\n",
              "       [8.286291 ],\n",
              "       [8.372546 ],\n",
              "       [8.726955 ],\n",
              "       [8.72213  ],\n",
              "       [8.314188 ],\n",
              "       [8.405122 ],\n",
              "       [8.398593 ],\n",
              "       [7.8034024],\n",
              "       [8.3137245],\n",
              "       [8.359827 ],\n",
              "       [8.10723  ],\n",
              "       [8.288943 ]], dtype=float32)"
            ]
          },
          "metadata": {
            "tags": []
          },
          "execution_count": 207
        }
      ]
    },
    {
      "cell_type": "code",
      "metadata": {
        "colab": {
          "base_uri": "https://localhost:8080/"
        },
        "id": "bL5GZMX9CMo4",
        "outputId": "85e0585b-6f4d-4759-a7e2-46ffb24818a9"
      },
      "source": [
        "y_true"
      ],
      "execution_count": null,
      "outputs": [
        {
          "output_type": "execute_result",
          "data": {
            "text/plain": [
              "array([ 8.,  4., 15., 13., 11.,  3.,  6., 12., 11.,  8., 11.,  9.,  9.,\n",
              "        0., 10.], dtype=float32)"
            ]
          },
          "metadata": {
            "tags": []
          },
          "execution_count": 208
        }
      ]
    },
    {
      "cell_type": "code",
      "metadata": {
        "id": "2SyJ4lcUiqzh"
      },
      "source": [
        "# def eval_(model, criterion, eval_loader):\n",
        "#   \"\"\" Simple Train Function for PyTorch Model. Adapted from PyTorch tutorials \"\"\"\n",
        "#   start_time = time.time()\n",
        "#   loss_hist = {}\n",
        "#   model.eval()\n",
        "\n",
        "#   ## Tracking loss\n",
        "#   eval_loss = 0.0\n",
        "#   ## For Evaluation Data:\n",
        "#   for imgs, values in eval_loader:\n",
        "#       imgs = imgs.to(device)\n",
        "#       values = values.to(device)\n",
        "\n",
        "#       ## Zero the gradients\n",
        "#       optimizer.zero_grad()\n",
        "#       outputs = model(imgs)\n",
        "#       loss = criterion(outputs, values)\n",
        "#       eval_loss += loss.item()\n",
        "\n",
        "    \n",
        "   \n",
        "\n",
        "#   eval_loss = eval_loss / len(eval_loader.dataset)\n",
        "#   print(\"Loss: {:.4f}\\tTime: {:.4f}\".format(eval_loss, time.time() - start_time))\n",
        "#   return eval_loss\n",
        "\n",
        "\n"
      ],
      "execution_count": null,
      "outputs": []
    },
    {
      "cell_type": "code",
      "metadata": {
        "id": "ZOdaBELkBcb2"
      },
      "source": [
        "from sklearn.metrics import r2_score"
      ],
      "execution_count": null,
      "outputs": []
    },
    {
      "cell_type": "code",
      "metadata": {
        "colab": {
          "base_uri": "https://localhost:8080/"
        },
        "id": "YkcwidPlBfBH",
        "outputId": "f5575f8f-8770-4f01-835f-679ec80dc612"
      },
      "source": [
        "r2_score(y_pred, y_true)"
      ],
      "execution_count": null,
      "outputs": [
        {
          "output_type": "execute_result",
          "data": {
            "text/plain": [
              "-265.86428128709247"
            ]
          },
          "metadata": {
            "tags": []
          },
          "execution_count": 210
        }
      ]
    },
    {
      "cell_type": "code",
      "metadata": {
        "id": "ewnCxwU-BuHe"
      },
      "source": [
        ""
      ],
      "execution_count": null,
      "outputs": []
    }
  ]
}